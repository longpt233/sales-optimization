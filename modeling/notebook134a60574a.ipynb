{
 "cells": [
  {
   "cell_type": "code",
   "execution_count": 1,
   "metadata": {
    "_cell_guid": "b1076dfc-b9ad-4769-8c92-a6c4dae69d19",
    "_uuid": "8f2839f25d086af736a60e9eeb907d3b93b6e0e5",
    "execution": {
     "iopub.execute_input": "2020-10-20T19:50:37.017840Z",
     "iopub.status.busy": "2020-10-20T19:50:37.017130Z",
     "iopub.status.idle": "2020-10-20T19:50:37.025124Z",
     "shell.execute_reply": "2020-10-20T19:50:37.024396Z"
    },
    "papermill": {
     "duration": 0.043757,
     "end_time": "2020-10-20T19:50:37.025261",
     "exception": false,
     "start_time": "2020-10-20T19:50:36.981504",
     "status": "completed"
    },
    "tags": []
   },
   "outputs": [
    {
     "name": "stdout",
     "output_type": "stream",
     "text": [
      "/kaggle/input/clicks-conversion-tracking/KAG_conversion_data.csv\n"
     ]
    }
   ],
   "source": [
    "# This Python 3 environment comes with many helpful analytics libraries installed\n",
    "# It is defined by the kaggle/python Docker image: https://github.com/kaggle/docker-python\n",
    "# For example, here's several helpful packages to load\n",
    "\n",
    "import numpy as np # linear algebra\n",
    "import pandas as pd # data processing, CSV file I/O (e.g. pd.read_csv)\n",
    "\n",
    "# Input data files are available in the read-only \"../input/\" directory\n",
    "# For example, running this (by clicking run or pressing Shift+Enter) will list all files under the input directory\n",
    "\n",
    "import os\n",
    "for dirname, _, filenames in os.walk('/kaggle/input'):\n",
    "    for filename in filenames:\n",
    "        print(os.path.join(dirname, filename))\n",
    "\n",
    "# You can write up to 5GB to the current directory (/kaggle/working/) that gets preserved as output when you create a version using \"Save & Run All\" \n",
    "# You can also write temporary files to /kaggle/temp/, but they won't be saved outside of the current session"
   ]
  },
  {
   "cell_type": "code",
   "execution_count": 2,
   "metadata": {
    "_cell_guid": "79c7e3d0-c299-4dcb-8224-4455121ee9b0",
    "_uuid": "d629ff2d2480ee46fbb7e2d37f6b5fab8052498a",
    "execution": {
     "iopub.execute_input": "2020-10-20T19:50:37.088095Z",
     "iopub.status.busy": "2020-10-20T19:50:37.087232Z",
     "iopub.status.idle": "2020-10-20T19:50:37.099959Z",
     "shell.execute_reply": "2020-10-20T19:50:37.099225Z"
    },
    "papermill": {
     "duration": 0.046257,
     "end_time": "2020-10-20T19:50:37.100078",
     "exception": false,
     "start_time": "2020-10-20T19:50:37.053821",
     "status": "completed"
    },
    "tags": []
   },
   "outputs": [],
   "source": [
    "df = pd.read_csv('/kaggle/input/clicks-conversion-tracking/KAG_conversion_data.csv')"
   ]
  },
  {
   "cell_type": "code",
   "execution_count": 3,
   "metadata": {
    "execution": {
     "iopub.execute_input": "2020-10-20T19:50:37.175214Z",
     "iopub.status.busy": "2020-10-20T19:50:37.174361Z",
     "iopub.status.idle": "2020-10-20T19:50:37.186908Z",
     "shell.execute_reply": "2020-10-20T19:50:37.186305Z"
    },
    "papermill": {
     "duration": 0.058761,
     "end_time": "2020-10-20T19:50:37.187021",
     "exception": false,
     "start_time": "2020-10-20T19:50:37.128260",
     "status": "completed"
    },
    "tags": []
   },
   "outputs": [
    {
     "data": {
      "text/html": [
       "<div>\n",
       "<style scoped>\n",
       "    .dataframe tbody tr th:only-of-type {\n",
       "        vertical-align: middle;\n",
       "    }\n",
       "\n",
       "    .dataframe tbody tr th {\n",
       "        vertical-align: top;\n",
       "    }\n",
       "\n",
       "    .dataframe thead th {\n",
       "        text-align: right;\n",
       "    }\n",
       "</style>\n",
       "<table border=\"1\" class=\"dataframe\">\n",
       "  <thead>\n",
       "    <tr style=\"text-align: right;\">\n",
       "      <th></th>\n",
       "      <th>ad_id</th>\n",
       "      <th>xyz_campaign_id</th>\n",
       "      <th>fb_campaign_id</th>\n",
       "      <th>age</th>\n",
       "      <th>gender</th>\n",
       "      <th>interest</th>\n",
       "      <th>Impressions</th>\n",
       "      <th>Clicks</th>\n",
       "      <th>Spent</th>\n",
       "      <th>Total_Conversion</th>\n",
       "      <th>Approved_Conversion</th>\n",
       "    </tr>\n",
       "  </thead>\n",
       "  <tbody>\n",
       "    <tr>\n",
       "      <th>0</th>\n",
       "      <td>708746</td>\n",
       "      <td>916</td>\n",
       "      <td>103916</td>\n",
       "      <td>30-34</td>\n",
       "      <td>M</td>\n",
       "      <td>15</td>\n",
       "      <td>7350</td>\n",
       "      <td>1</td>\n",
       "      <td>1.43</td>\n",
       "      <td>2</td>\n",
       "      <td>1</td>\n",
       "    </tr>\n",
       "    <tr>\n",
       "      <th>1</th>\n",
       "      <td>708749</td>\n",
       "      <td>916</td>\n",
       "      <td>103917</td>\n",
       "      <td>30-34</td>\n",
       "      <td>M</td>\n",
       "      <td>16</td>\n",
       "      <td>17861</td>\n",
       "      <td>2</td>\n",
       "      <td>1.82</td>\n",
       "      <td>2</td>\n",
       "      <td>0</td>\n",
       "    </tr>\n",
       "    <tr>\n",
       "      <th>2</th>\n",
       "      <td>708771</td>\n",
       "      <td>916</td>\n",
       "      <td>103920</td>\n",
       "      <td>30-34</td>\n",
       "      <td>M</td>\n",
       "      <td>20</td>\n",
       "      <td>693</td>\n",
       "      <td>0</td>\n",
       "      <td>0.00</td>\n",
       "      <td>1</td>\n",
       "      <td>0</td>\n",
       "    </tr>\n",
       "    <tr>\n",
       "      <th>3</th>\n",
       "      <td>708815</td>\n",
       "      <td>916</td>\n",
       "      <td>103928</td>\n",
       "      <td>30-34</td>\n",
       "      <td>M</td>\n",
       "      <td>28</td>\n",
       "      <td>4259</td>\n",
       "      <td>1</td>\n",
       "      <td>1.25</td>\n",
       "      <td>1</td>\n",
       "      <td>0</td>\n",
       "    </tr>\n",
       "    <tr>\n",
       "      <th>4</th>\n",
       "      <td>708818</td>\n",
       "      <td>916</td>\n",
       "      <td>103928</td>\n",
       "      <td>30-34</td>\n",
       "      <td>M</td>\n",
       "      <td>28</td>\n",
       "      <td>4133</td>\n",
       "      <td>1</td>\n",
       "      <td>1.29</td>\n",
       "      <td>1</td>\n",
       "      <td>1</td>\n",
       "    </tr>\n",
       "  </tbody>\n",
       "</table>\n",
       "</div>"
      ],
      "text/plain": [
       "    ad_id  xyz_campaign_id  fb_campaign_id    age gender  interest  \\\n",
       "0  708746              916          103916  30-34      M        15   \n",
       "1  708749              916          103917  30-34      M        16   \n",
       "2  708771              916          103920  30-34      M        20   \n",
       "3  708815              916          103928  30-34      M        28   \n",
       "4  708818              916          103928  30-34      M        28   \n",
       "\n",
       "   Impressions  Clicks  Spent  Total_Conversion  Approved_Conversion  \n",
       "0         7350       1   1.43                 2                    1  \n",
       "1        17861       2   1.82                 2                    0  \n",
       "2          693       0   0.00                 1                    0  \n",
       "3         4259       1   1.25                 1                    0  \n",
       "4         4133       1   1.29                 1                    1  "
      ]
     },
     "execution_count": 3,
     "metadata": {},
     "output_type": "execute_result"
    }
   ],
   "source": [
    "df.head()"
   ]
  },
  {
   "cell_type": "markdown",
   "metadata": {
    "papermill": {
     "duration": 0.028086,
     "end_time": "2020-10-20T19:50:37.243451",
     "exception": false,
     "start_time": "2020-10-20T19:50:37.215365",
     "status": "completed"
    },
    "tags": []
   },
   "source": [
    "DATA EXPLORATION"
   ]
  },
  {
   "cell_type": "markdown",
   "metadata": {
    "papermill": {
     "duration": 0.027975,
     "end_time": "2020-10-20T19:50:37.299775",
     "exception": false,
     "start_time": "2020-10-20T19:50:37.271800",
     "status": "completed"
    },
    "tags": []
   },
   "source": [
    "we would drop all three id since they dont affect our conclusion\n"
   ]
  },
  {
   "cell_type": "code",
   "execution_count": 4,
   "metadata": {
    "execution": {
     "iopub.execute_input": "2020-10-20T19:50:37.366994Z",
     "iopub.status.busy": "2020-10-20T19:50:37.366355Z",
     "iopub.status.idle": "2020-10-20T19:50:37.369504Z",
     "shell.execute_reply": "2020-10-20T19:50:37.369040Z"
    },
    "papermill": {
     "duration": 0.041802,
     "end_time": "2020-10-20T19:50:37.369704",
     "exception": false,
     "start_time": "2020-10-20T19:50:37.327902",
     "status": "completed"
    },
    "tags": []
   },
   "outputs": [],
   "source": [
    "df = df.drop(['ad_id','xyz_campaign_id','fb_campaign_id'],axis=1)"
   ]
  },
  {
   "cell_type": "code",
   "execution_count": 5,
   "metadata": {
    "execution": {
     "iopub.execute_input": "2020-10-20T19:50:37.439159Z",
     "iopub.status.busy": "2020-10-20T19:50:37.438402Z",
     "iopub.status.idle": "2020-10-20T19:50:37.442817Z",
     "shell.execute_reply": "2020-10-20T19:50:37.442045Z"
    },
    "papermill": {
     "duration": 0.044946,
     "end_time": "2020-10-20T19:50:37.442939",
     "exception": false,
     "start_time": "2020-10-20T19:50:37.397993",
     "status": "completed"
    },
    "tags": []
   },
   "outputs": [
    {
     "data": {
      "text/html": [
       "<div>\n",
       "<style scoped>\n",
       "    .dataframe tbody tr th:only-of-type {\n",
       "        vertical-align: middle;\n",
       "    }\n",
       "\n",
       "    .dataframe tbody tr th {\n",
       "        vertical-align: top;\n",
       "    }\n",
       "\n",
       "    .dataframe thead th {\n",
       "        text-align: right;\n",
       "    }\n",
       "</style>\n",
       "<table border=\"1\" class=\"dataframe\">\n",
       "  <thead>\n",
       "    <tr style=\"text-align: right;\">\n",
       "      <th></th>\n",
       "      <th>age</th>\n",
       "      <th>gender</th>\n",
       "      <th>interest</th>\n",
       "      <th>Impressions</th>\n",
       "      <th>Clicks</th>\n",
       "      <th>Spent</th>\n",
       "      <th>Total_Conversion</th>\n",
       "      <th>Approved_Conversion</th>\n",
       "    </tr>\n",
       "  </thead>\n",
       "  <tbody>\n",
       "    <tr>\n",
       "      <th>0</th>\n",
       "      <td>30-34</td>\n",
       "      <td>M</td>\n",
       "      <td>15</td>\n",
       "      <td>7350</td>\n",
       "      <td>1</td>\n",
       "      <td>1.43</td>\n",
       "      <td>2</td>\n",
       "      <td>1</td>\n",
       "    </tr>\n",
       "    <tr>\n",
       "      <th>1</th>\n",
       "      <td>30-34</td>\n",
       "      <td>M</td>\n",
       "      <td>16</td>\n",
       "      <td>17861</td>\n",
       "      <td>2</td>\n",
       "      <td>1.82</td>\n",
       "      <td>2</td>\n",
       "      <td>0</td>\n",
       "    </tr>\n",
       "    <tr>\n",
       "      <th>2</th>\n",
       "      <td>30-34</td>\n",
       "      <td>M</td>\n",
       "      <td>20</td>\n",
       "      <td>693</td>\n",
       "      <td>0</td>\n",
       "      <td>0.00</td>\n",
       "      <td>1</td>\n",
       "      <td>0</td>\n",
       "    </tr>\n",
       "  </tbody>\n",
       "</table>\n",
       "</div>"
      ],
      "text/plain": [
       "     age gender  interest  Impressions  Clicks  Spent  Total_Conversion  \\\n",
       "0  30-34      M        15         7350       1   1.43                 2   \n",
       "1  30-34      M        16        17861       2   1.82                 2   \n",
       "2  30-34      M        20          693       0   0.00                 1   \n",
       "\n",
       "   Approved_Conversion  \n",
       "0                    1  \n",
       "1                    0  \n",
       "2                    0  "
      ]
     },
     "execution_count": 5,
     "metadata": {},
     "output_type": "execute_result"
    }
   ],
   "source": [
    "df.head(3)"
   ]
  },
  {
   "cell_type": "code",
   "execution_count": 6,
   "metadata": {
    "execution": {
     "iopub.execute_input": "2020-10-20T19:50:37.509030Z",
     "iopub.status.busy": "2020-10-20T19:50:37.508045Z",
     "iopub.status.idle": "2020-10-20T19:50:37.512275Z",
     "shell.execute_reply": "2020-10-20T19:50:37.511742Z"
    },
    "papermill": {
     "duration": 0.040617,
     "end_time": "2020-10-20T19:50:37.512385",
     "exception": false,
     "start_time": "2020-10-20T19:50:37.471768",
     "status": "completed"
    },
    "tags": []
   },
   "outputs": [
    {
     "data": {
      "text/plain": [
       "0     559\n",
       "1     403\n",
       "2      86\n",
       "3      35\n",
       "4      24\n",
       "6       7\n",
       "5       7\n",
       "8       5\n",
       "10      4\n",
       "7       4\n",
       "9       3\n",
       "14      2\n",
       "21      1\n",
       "17      1\n",
       "13      1\n",
       "12      1\n",
       "Name: Approved_Conversion, dtype: int64"
      ]
     },
     "execution_count": 6,
     "metadata": {},
     "output_type": "execute_result"
    }
   ],
   "source": [
    "df['Approved_Conversion'].value_counts()"
   ]
  },
  {
   "cell_type": "code",
   "execution_count": 7,
   "metadata": {
    "execution": {
     "iopub.execute_input": "2020-10-20T19:50:37.579099Z",
     "iopub.status.busy": "2020-10-20T19:50:37.578076Z",
     "iopub.status.idle": "2020-10-20T19:50:37.582371Z",
     "shell.execute_reply": "2020-10-20T19:50:37.581885Z"
    },
    "papermill": {
     "duration": 0.040648,
     "end_time": "2020-10-20T19:50:37.582476",
     "exception": false,
     "start_time": "2020-10-20T19:50:37.541828",
     "status": "completed"
    },
    "tags": []
   },
   "outputs": [
    {
     "data": {
      "text/plain": [
       "M    592\n",
       "F    551\n",
       "Name: gender, dtype: int64"
      ]
     },
     "execution_count": 7,
     "metadata": {},
     "output_type": "execute_result"
    }
   ],
   "source": [
    "df['gender'].value_counts()"
   ]
  },
  {
   "cell_type": "code",
   "execution_count": 8,
   "metadata": {
    "execution": {
     "iopub.execute_input": "2020-10-20T19:50:37.651384Z",
     "iopub.status.busy": "2020-10-20T19:50:37.650221Z",
     "iopub.status.idle": "2020-10-20T19:50:37.654331Z",
     "shell.execute_reply": "2020-10-20T19:50:37.654846Z"
    },
    "papermill": {
     "duration": 0.041763,
     "end_time": "2020-10-20T19:50:37.654986",
     "exception": false,
     "start_time": "2020-10-20T19:50:37.613223",
     "status": "completed"
    },
    "tags": []
   },
   "outputs": [
    {
     "data": {
      "text/plain": [
       "30-34    426\n",
       "45-49    259\n",
       "35-39    248\n",
       "40-44    210\n",
       "Name: age, dtype: int64"
      ]
     },
     "execution_count": 8,
     "metadata": {},
     "output_type": "execute_result"
    }
   ],
   "source": [
    "df['age'].value_counts()"
   ]
  },
  {
   "cell_type": "markdown",
   "metadata": {
    "papermill": {
     "duration": 0.030552,
     "end_time": "2020-10-20T19:50:37.715959",
     "exception": false,
     "start_time": "2020-10-20T19:50:37.685407",
     "status": "completed"
    },
    "tags": []
   },
   "source": [
    "These two were Categorical Values so we also would hace to change both in numerical form"
   ]
  },
  {
   "cell_type": "markdown",
   "metadata": {
    "papermill": {
     "duration": 0.030199,
     "end_time": "2020-10-20T19:50:37.775947",
     "exception": false,
     "start_time": "2020-10-20T19:50:37.745748",
     "status": "completed"
    },
    "tags": []
   },
   "source": [
    "SOME DATA VISUALISATION"
   ]
  },
  {
   "cell_type": "code",
   "execution_count": 9,
   "metadata": {
    "execution": {
     "iopub.execute_input": "2020-10-20T19:50:37.841310Z",
     "iopub.status.busy": "2020-10-20T19:50:37.840453Z",
     "iopub.status.idle": "2020-10-20T19:50:38.852092Z",
     "shell.execute_reply": "2020-10-20T19:50:38.851516Z"
    },
    "papermill": {
     "duration": 1.04628,
     "end_time": "2020-10-20T19:50:38.852214",
     "exception": false,
     "start_time": "2020-10-20T19:50:37.805934",
     "status": "completed"
    },
    "tags": []
   },
   "outputs": [],
   "source": [
    "import seaborn as sns"
   ]
  },
  {
   "cell_type": "code",
   "execution_count": 10,
   "metadata": {
    "execution": {
     "iopub.execute_input": "2020-10-20T19:50:38.919346Z",
     "iopub.status.busy": "2020-10-20T19:50:38.918453Z",
     "iopub.status.idle": "2020-10-20T19:50:39.278894Z",
     "shell.execute_reply": "2020-10-20T19:50:39.278275Z"
    },
    "papermill": {
     "duration": 0.396251,
     "end_time": "2020-10-20T19:50:39.279017",
     "exception": false,
     "start_time": "2020-10-20T19:50:38.882766",
     "status": "completed"
    },
    "tags": []
   },
   "outputs": [
    {
     "data": {
      "text/plain": [
       "<matplotlib.axes._subplots.AxesSubplot at 0x7f91fc24f6d0>"
      ]
     },
     "execution_count": 10,
     "metadata": {},
     "output_type": "execute_result"
    },
    {
     "data": {
      "image/png": "[encoded data removed]",
      "text/plain": [
       "<Figure size 432x288 with 2 Axes>"
      ]
     },
     "metadata": {
      "needs_background": "light"
     },
     "output_type": "display_data"
    }
   ],
   "source": [
    "#check if we have empty values or not\n",
    "sns.heatmap(df.isnull())"
   ]
  },
  {
   "cell_type": "markdown",
   "metadata": {
    "papermill": {
     "duration": 0.03086,
     "end_time": "2020-10-20T19:50:39.341231",
     "exception": false,
     "start_time": "2020-10-20T19:50:39.310371",
     "status": "completed"
    },
    "tags": []
   },
   "source": [
    "we have no missing values"
   ]
  },
  {
   "cell_type": "code",
   "execution_count": 11,
   "metadata": {
    "execution": {
     "iopub.execute_input": "2020-10-20T19:50:39.409665Z",
     "iopub.status.busy": "2020-10-20T19:50:39.408932Z",
     "iopub.status.idle": "2020-10-20T19:50:39.411782Z",
     "shell.execute_reply": "2020-10-20T19:50:39.411272Z"
    },
    "papermill": {
     "duration": 0.039602,
     "end_time": "2020-10-20T19:50:39.411906",
     "exception": false,
     "start_time": "2020-10-20T19:50:39.372304",
     "status": "completed"
    },
    "tags": []
   },
   "outputs": [],
   "source": [
    "import seaborn as sns"
   ]
  },
  {
   "cell_type": "code",
   "execution_count": 12,
   "metadata": {
    "execution": {
     "iopub.execute_input": "2020-10-20T19:50:39.491814Z",
     "iopub.status.busy": "2020-10-20T19:50:39.485156Z",
     "iopub.status.idle": "2020-10-20T19:50:39.726989Z",
     "shell.execute_reply": "2020-10-20T19:50:39.726405Z"
    },
    "papermill": {
     "duration": 0.283156,
     "end_time": "2020-10-20T19:50:39.727103",
     "exception": false,
     "start_time": "2020-10-20T19:50:39.443947",
     "status": "completed"
    },
    "tags": []
   },
   "outputs": [
    {
     "data": {
      "text/plain": [
       "<matplotlib.axes._subplots.AxesSubplot at 0x7f91fe58fd10>"
      ]
     },
     "execution_count": 12,
     "metadata": {},
     "output_type": "execute_result"
    },
    {
     "data": {
      "image/png": "[encoded data removed]",
      "text/plain": [
       "<Figure size 432x288 with 1 Axes>"
      ]
     },
     "metadata": {
      "needs_background": "light"
     },
     "output_type": "display_data"
    }
   ],
   "source": [
    "sns.countplot(x='Approved_Conversion',hue='gender',data=df)"
   ]
  },
  {
   "cell_type": "markdown",
   "metadata": {
    "papermill": {
     "duration": 0.035174,
     "end_time": "2020-10-20T19:50:39.795165",
     "exception": false,
     "start_time": "2020-10-20T19:50:39.759991",
     "status": "completed"
    },
    "tags": []
   },
   "source": [
    "it is quite evident that more men have bought the product  after seeing the ad so a man buying the product after ad is more probable than a woman "
   ]
  },
  {
   "cell_type": "code",
   "execution_count": 13,
   "metadata": {
    "execution": {
     "iopub.execute_input": "2020-10-20T19:50:39.874027Z",
     "iopub.status.busy": "2020-10-20T19:50:39.872231Z",
     "iopub.status.idle": "2020-10-20T19:50:40.048832Z",
     "shell.execute_reply": "2020-10-20T19:50:40.049366Z"
    },
    "papermill": {
     "duration": 0.220669,
     "end_time": "2020-10-20T19:50:40.049512",
     "exception": false,
     "start_time": "2020-10-20T19:50:39.828843",
     "status": "completed"
    },
    "tags": []
   },
   "outputs": [
    {
     "data": {
      "text/plain": [
       "<matplotlib.axes._subplots.AxesSubplot at 0x7f91f7fa4ad0>"
      ]
     },
     "execution_count": 13,
     "metadata": {},
     "output_type": "execute_result"
    },
    {
     "data": {
      "image/png": "[encoded data removed]",
      "text/plain": [
       "<Figure size 432x288 with 1 Axes>"
      ]
     },
     "metadata": {
      "needs_background": "light"
     },
     "output_type": "display_data"
    }
   ],
   "source": [
    "sns.distplot(df['Clicks'],kde=False,bins=30)"
   ]
  },
  {
   "cell_type": "markdown",
   "metadata": {
    "papermill": {
     "duration": 0.033968,
     "end_time": "2020-10-20T19:50:40.117423",
     "exception": false,
     "start_time": "2020-10-20T19:50:40.083455",
     "status": "completed"
    },
    "tags": []
   },
   "source": [
    "So total clicks on the ad lie mostly in range 0-10 "
   ]
  },
  {
   "cell_type": "code",
   "execution_count": 14,
   "metadata": {
    "execution": {
     "iopub.execute_input": "2020-10-20T19:50:40.199175Z",
     "iopub.status.busy": "2020-10-20T19:50:40.198455Z",
     "iopub.status.idle": "2020-10-20T19:50:40.563691Z",
     "shell.execute_reply": "2020-10-20T19:50:40.563077Z"
    },
    "papermill": {
     "duration": 0.412686,
     "end_time": "2020-10-20T19:50:40.563823",
     "exception": false,
     "start_time": "2020-10-20T19:50:40.151137",
     "status": "completed"
    },
    "tags": []
   },
   "outputs": [
    {
     "data": {
      "text/plain": [
       "<matplotlib.axes._subplots.AxesSubplot at 0x7f91f7e3b690>"
      ]
     },
     "execution_count": 14,
     "metadata": {},
     "output_type": "execute_result"
    },
    {
     "data": {
      "image/png": "[encoded data removed]",
      "text/plain": [
       "<Figure size 432x288 with 1 Axes>"
      ]
     },
     "metadata": {
      "needs_background": "light"
     },
     "output_type": "display_data"
    }
   ],
   "source": [
    "sns.distplot(df['interest'],kde=False,bins=100)"
   ]
  },
  {
   "cell_type": "markdown",
   "metadata": {
    "papermill": {
     "duration": 0.033995,
     "end_time": "2020-10-20T19:50:40.631818",
     "exception": false,
     "start_time": "2020-10-20T19:50:40.597823",
     "status": "completed"
    },
    "tags": []
   },
   "source": [
    "SO here interest of different people are encoded with a number and majority of people are interested in object which is encoded by number 140 "
   ]
  },
  {
   "cell_type": "code",
   "execution_count": 15,
   "metadata": {
    "execution": {
     "iopub.execute_input": "2020-10-20T19:50:40.706028Z",
     "iopub.status.busy": "2020-10-20T19:50:40.705331Z",
     "iopub.status.idle": "2020-10-20T19:50:41.057300Z",
     "shell.execute_reply": "2020-10-20T19:50:41.056753Z"
    },
    "papermill": {
     "duration": 0.391435,
     "end_time": "2020-10-20T19:50:41.057433",
     "exception": false,
     "start_time": "2020-10-20T19:50:40.665998",
     "status": "completed"
    },
    "tags": []
   },
   "outputs": [
    {
     "data": {
      "text/plain": [
       "<matplotlib.axes._subplots.AxesSubplot at 0x7f91f7fa4610>"
      ]
     },
     "execution_count": 15,
     "metadata": {},
     "output_type": "execute_result"
    },
    {
     "data": {
      "image/png": "[encoded data removed]",
      "text/plain": [
       "<Figure size 432x288 with 1 Axes>"
      ]
     },
     "metadata": {
      "needs_background": "light"
     },
     "output_type": "display_data"
    }
   ],
   "source": [
    "sns.countplot(x='Approved_Conversion',hue='age',data=df)"
   ]
  },
  {
   "cell_type": "markdown",
   "metadata": {
    "papermill": {
     "duration": 0.035016,
     "end_time": "2020-10-20T19:50:41.127985",
     "exception": false,
     "start_time": "2020-10-20T19:50:41.092969",
     "status": "completed"
    },
    "tags": []
   },
   "source": [
    "Intersting fact , most people have only bought the product only once and also most of the people who buy it lie in the range of 30-34 "
   ]
  },
  {
   "cell_type": "code",
   "execution_count": 16,
   "metadata": {
    "execution": {
     "iopub.execute_input": "2020-10-20T19:50:41.209971Z",
     "iopub.status.busy": "2020-10-20T19:50:41.209223Z",
     "iopub.status.idle": "2020-10-20T19:50:41.402608Z",
     "shell.execute_reply": "2020-10-20T19:50:41.402055Z"
    },
    "papermill": {
     "duration": 0.238984,
     "end_time": "2020-10-20T19:50:41.402722",
     "exception": false,
     "start_time": "2020-10-20T19:50:41.163738",
     "status": "completed"
    },
    "tags": []
   },
   "outputs": [
    {
     "data": {
      "text/plain": [
       "<matplotlib.axes._subplots.AxesSubplot at 0x7f91f7baff10>"
      ]
     },
     "execution_count": 16,
     "metadata": {},
     "output_type": "execute_result"
    },
    {
     "data": {
      "image/png": "[encoded data removed]",
      "text/plain": [
       "<Figure size 432x288 with 1 Axes>"
      ]
     },
     "metadata": {
      "needs_background": "light"
     },
     "output_type": "display_data"
    }
   ],
   "source": [
    "sns.distplot(df['Spent'],bins=30)"
   ]
  },
  {
   "cell_type": "markdown",
   "metadata": {
    "papermill": {
     "duration": 0.036431,
     "end_time": "2020-10-20T19:50:41.476624",
     "exception": false,
     "start_time": "2020-10-20T19:50:41.440193",
     "status": "completed"
    },
    "tags": []
   },
   "source": [
    "So amounts pad by most of the companies are aroun 0-10"
   ]
  },
  {
   "cell_type": "markdown",
   "metadata": {
    "papermill": {
     "duration": 0.036292,
     "end_time": "2020-10-20T19:50:41.550293",
     "exception": false,
     "start_time": "2020-10-20T19:50:41.514001",
     "status": "completed"
    },
    "tags": []
   },
   "source": [
    "DATA MANIPUALTION"
   ]
  },
  {
   "cell_type": "code",
   "execution_count": 17,
   "metadata": {
    "execution": {
     "iopub.execute_input": "2020-10-20T19:50:41.631136Z",
     "iopub.status.busy": "2020-10-20T19:50:41.630237Z",
     "iopub.status.idle": "2020-10-20T19:50:41.634505Z",
     "shell.execute_reply": "2020-10-20T19:50:41.633871Z"
    },
    "papermill": {
     "duration": 0.047962,
     "end_time": "2020-10-20T19:50:41.634639",
     "exception": false,
     "start_time": "2020-10-20T19:50:41.586677",
     "status": "completed"
    },
    "tags": []
   },
   "outputs": [
    {
     "data": {
      "text/plain": [
       "M    592\n",
       "F    551\n",
       "Name: gender, dtype: int64"
      ]
     },
     "execution_count": 17,
     "metadata": {},
     "output_type": "execute_result"
    }
   ],
   "source": [
    "df['gender'].value_counts()"
   ]
  },
  {
   "cell_type": "code",
   "execution_count": 18,
   "metadata": {
    "execution": {
     "iopub.execute_input": "2020-10-20T19:50:41.715838Z",
     "iopub.status.busy": "2020-10-20T19:50:41.714841Z",
     "iopub.status.idle": "2020-10-20T19:50:41.720071Z",
     "shell.execute_reply": "2020-10-20T19:50:41.720543Z"
    },
    "papermill": {
     "duration": 0.048954,
     "end_time": "2020-10-20T19:50:41.720718",
     "exception": false,
     "start_time": "2020-10-20T19:50:41.671764",
     "status": "completed"
    },
    "tags": []
   },
   "outputs": [],
   "source": [
    "df = df.replace('M',1)\n",
    "df = df.replace('F',0)"
   ]
  },
  {
   "cell_type": "code",
   "execution_count": 19,
   "metadata": {
    "execution": {
     "iopub.execute_input": "2020-10-20T19:50:41.810805Z",
     "iopub.status.busy": "2020-10-20T19:50:41.809719Z",
     "iopub.status.idle": "2020-10-20T19:50:41.815095Z",
     "shell.execute_reply": "2020-10-20T19:50:41.814262Z"
    },
    "papermill": {
     "duration": 0.057077,
     "end_time": "2020-10-20T19:50:41.815264",
     "exception": false,
     "start_time": "2020-10-20T19:50:41.758187",
     "status": "completed"
    },
    "tags": []
   },
   "outputs": [
    {
     "data": {
      "text/plain": [
       "30-34    426\n",
       "45-49    259\n",
       "35-39    248\n",
       "40-44    210\n",
       "Name: age, dtype: int64"
      ]
     },
     "execution_count": 19,
     "metadata": {},
     "output_type": "execute_result"
    }
   ],
   "source": [
    "df['age'].value_counts()"
   ]
  },
  {
   "cell_type": "code",
   "execution_count": 20,
   "metadata": {
    "execution": {
     "iopub.execute_input": "2020-10-20T19:50:41.937083Z",
     "iopub.status.busy": "2020-10-20T19:50:41.936183Z",
     "iopub.status.idle": "2020-10-20T19:50:41.941484Z",
     "shell.execute_reply": "2020-10-20T19:50:41.940852Z"
    },
    "papermill": {
     "duration": 0.070228,
     "end_time": "2020-10-20T19:50:41.941614",
     "exception": false,
     "start_time": "2020-10-20T19:50:41.871386",
     "status": "completed"
    },
    "tags": []
   },
   "outputs": [],
   "source": [
    "df = df.replace('30-34',0.0011)\n",
    "df = df.replace('35-39',0.0012)\n",
    "df = df.replace('40-44',0.0013)\n",
    "df = df.replace('45-49',0.0014)\n"
   ]
  },
  {
   "cell_type": "code",
   "execution_count": 21,
   "metadata": {
    "execution": {
     "iopub.execute_input": "2020-10-20T19:50:42.035001Z",
     "iopub.status.busy": "2020-10-20T19:50:42.034193Z",
     "iopub.status.idle": "2020-10-20T19:50:42.038772Z",
     "shell.execute_reply": "2020-10-20T19:50:42.038226Z"
    },
    "papermill": {
     "duration": 0.056281,
     "end_time": "2020-10-20T19:50:42.038900",
     "exception": false,
     "start_time": "2020-10-20T19:50:41.982619",
     "status": "completed"
    },
    "tags": []
   },
   "outputs": [
    {
     "data": {
      "text/html": [
       "<div>\n",
       "<style scoped>\n",
       "    .dataframe tbody tr th:only-of-type {\n",
       "        vertical-align: middle;\n",
       "    }\n",
       "\n",
       "    .dataframe tbody tr th {\n",
       "        vertical-align: top;\n",
       "    }\n",
       "\n",
       "    .dataframe thead th {\n",
       "        text-align: right;\n",
       "    }\n",
       "</style>\n",
       "<table border=\"1\" class=\"dataframe\">\n",
       "  <thead>\n",
       "    <tr style=\"text-align: right;\">\n",
       "      <th></th>\n",
       "      <th>age</th>\n",
       "      <th>gender</th>\n",
       "      <th>interest</th>\n",
       "      <th>Impressions</th>\n",
       "      <th>Clicks</th>\n",
       "      <th>Spent</th>\n",
       "      <th>Total_Conversion</th>\n",
       "      <th>Approved_Conversion</th>\n",
       "    </tr>\n",
       "  </thead>\n",
       "  <tbody>\n",
       "    <tr>\n",
       "      <th>0</th>\n",
       "      <td>0.0011</td>\n",
       "      <td>1</td>\n",
       "      <td>15</td>\n",
       "      <td>7350</td>\n",
       "      <td>1</td>\n",
       "      <td>1.43</td>\n",
       "      <td>2</td>\n",
       "      <td>1</td>\n",
       "    </tr>\n",
       "    <tr>\n",
       "      <th>1</th>\n",
       "      <td>0.0011</td>\n",
       "      <td>1</td>\n",
       "      <td>16</td>\n",
       "      <td>17861</td>\n",
       "      <td>2</td>\n",
       "      <td>1.82</td>\n",
       "      <td>2</td>\n",
       "      <td>0</td>\n",
       "    </tr>\n",
       "    <tr>\n",
       "      <th>2</th>\n",
       "      <td>0.0011</td>\n",
       "      <td>1</td>\n",
       "      <td>20</td>\n",
       "      <td>693</td>\n",
       "      <td>0</td>\n",
       "      <td>0.00</td>\n",
       "      <td>1</td>\n",
       "      <td>0</td>\n",
       "    </tr>\n",
       "    <tr>\n",
       "      <th>3</th>\n",
       "      <td>0.0011</td>\n",
       "      <td>1</td>\n",
       "      <td>28</td>\n",
       "      <td>4259</td>\n",
       "      <td>1</td>\n",
       "      <td>1.25</td>\n",
       "      <td>1</td>\n",
       "      <td>0</td>\n",
       "    </tr>\n",
       "    <tr>\n",
       "      <th>4</th>\n",
       "      <td>0.0011</td>\n",
       "      <td>1</td>\n",
       "      <td>28</td>\n",
       "      <td>4133</td>\n",
       "      <td>1</td>\n",
       "      <td>1.29</td>\n",
       "      <td>1</td>\n",
       "      <td>1</td>\n",
       "    </tr>\n",
       "  </tbody>\n",
       "</table>\n",
       "</div>"
      ],
      "text/plain": [
       "      age  gender  interest  Impressions  Clicks  Spent  Total_Conversion  \\\n",
       "0  0.0011       1        15         7350       1   1.43                 2   \n",
       "1  0.0011       1        16        17861       2   1.82                 2   \n",
       "2  0.0011       1        20          693       0   0.00                 1   \n",
       "3  0.0011       1        28         4259       1   1.25                 1   \n",
       "4  0.0011       1        28         4133       1   1.29                 1   \n",
       "\n",
       "   Approved_Conversion  \n",
       "0                    1  \n",
       "1                    0  \n",
       "2                    0  \n",
       "3                    0  \n",
       "4                    1  "
      ]
     },
     "execution_count": 21,
     "metadata": {},
     "output_type": "execute_result"
    }
   ],
   "source": [
    "df.head()"
   ]
  },
  {
   "cell_type": "markdown",
   "metadata": {
    "papermill": {
     "duration": 0.038994,
     "end_time": "2020-10-20T19:50:42.116469",
     "exception": false,
     "start_time": "2020-10-20T19:50:42.077475",
     "status": "completed"
    },
    "tags": []
   },
   "source": [
    "# APPLYING DIFFERENT ALGORITHMS "
   ]
  },
  {
   "cell_type": "code",
   "execution_count": 22,
   "metadata": {
    "execution": {
     "iopub.execute_input": "2020-10-20T19:50:42.200935Z",
     "iopub.status.busy": "2020-10-20T19:50:42.200097Z",
     "iopub.status.idle": "2020-10-20T19:50:42.204756Z",
     "shell.execute_reply": "2020-10-20T19:50:42.204175Z"
    },
    "papermill": {
     "duration": 0.04915,
     "end_time": "2020-10-20T19:50:42.204888",
     "exception": false,
     "start_time": "2020-10-20T19:50:42.155738",
     "status": "completed"
    },
    "tags": []
   },
   "outputs": [
    {
     "data": {
      "text/plain": [
       "Index(['age', 'gender', 'interest', 'Impressions', 'Clicks', 'Spent',\n",
       "       'Total_Conversion', 'Approved_Conversion'],\n",
       "      dtype='object')"
      ]
     },
     "execution_count": 22,
     "metadata": {},
     "output_type": "execute_result"
    }
   ],
   "source": [
    "df.columns"
   ]
  },
  {
   "cell_type": "code",
   "execution_count": 23,
   "metadata": {
    "execution": {
     "iopub.execute_input": "2020-10-20T19:50:42.290220Z",
     "iopub.status.busy": "2020-10-20T19:50:42.289480Z",
     "iopub.status.idle": "2020-10-20T19:50:42.294309Z",
     "shell.execute_reply": "2020-10-20T19:50:42.293760Z"
    },
    "papermill": {
     "duration": 0.049743,
     "end_time": "2020-10-20T19:50:42.294422",
     "exception": false,
     "start_time": "2020-10-20T19:50:42.244679",
     "status": "completed"
    },
    "tags": []
   },
   "outputs": [],
   "source": [
    "x = df[['age', 'gender', 'interest', 'Impressions', 'Clicks', 'Spent',\n",
    "       'Total_Conversion']]\n",
    "y = df['Approved_Conversion']"
   ]
  },
  {
   "cell_type": "code",
   "execution_count": 24,
   "metadata": {
    "execution": {
     "iopub.execute_input": "2020-10-20T19:50:42.378487Z",
     "iopub.status.busy": "2020-10-20T19:50:42.377628Z",
     "iopub.status.idle": "2020-10-20T19:50:42.488931Z",
     "shell.execute_reply": "2020-10-20T19:50:42.489468Z"
    },
    "papermill": {
     "duration": 0.1562,
     "end_time": "2020-10-20T19:50:42.489653",
     "exception": false,
     "start_time": "2020-10-20T19:50:42.333453",
     "status": "completed"
    },
    "tags": []
   },
   "outputs": [],
   "source": [
    "from sklearn.model_selection import train_test_split\n",
    "x_train,x_test,y_train,y_test = train_test_split(x,y,test_size=0.3,random_state=101)"
   ]
  },
  {
   "cell_type": "code",
   "execution_count": 25,
   "metadata": {
    "execution": {
     "iopub.execute_input": "2020-10-20T19:50:42.574388Z",
     "iopub.status.busy": "2020-10-20T19:50:42.573564Z",
     "iopub.status.idle": "2020-10-20T19:50:42.690171Z",
     "shell.execute_reply": "2020-10-20T19:50:42.689553Z"
    },
    "papermill": {
     "duration": 0.16067,
     "end_time": "2020-10-20T19:50:42.690294",
     "exception": false,
     "start_time": "2020-10-20T19:50:42.529624",
     "status": "completed"
    },
    "tags": []
   },
   "outputs": [
    {
     "data": {
      "text/plain": [
       "0.7468854474221611"
      ]
     },
     "execution_count": 25,
     "metadata": {},
     "output_type": "execute_result"
    }
   ],
   "source": [
    "from sklearn.linear_model import LinearRegression\n",
    "linear = LinearRegression()\n",
    "linear.fit(x_train,y_train)\n",
    "linear.score(x_test,y_test)"
   ]
  },
  {
   "cell_type": "code",
   "execution_count": 26,
   "metadata": {
    "execution": {
     "iopub.execute_input": "2020-10-20T19:50:42.776387Z",
     "iopub.status.busy": "2020-10-20T19:50:42.775722Z",
     "iopub.status.idle": "2020-10-20T19:50:42.880080Z",
     "shell.execute_reply": "2020-10-20T19:50:42.880636Z"
    },
    "papermill": {
     "duration": 0.150993,
     "end_time": "2020-10-20T19:50:42.880815",
     "exception": false,
     "start_time": "2020-10-20T19:50:42.729822",
     "status": "completed"
    },
    "tags": []
   },
   "outputs": [
    {
     "data": {
      "text/plain": [
       "0.3801318549595445"
      ]
     },
     "execution_count": 26,
     "metadata": {},
     "output_type": "execute_result"
    }
   ],
   "source": [
    "from sklearn.tree import DecisionTreeRegressor\n",
    "tree = DecisionTreeRegressor()\n",
    "tree.fit(x_train,y_train)\n",
    "tree.score(x_test,y_test)"
   ]
  },
  {
   "cell_type": "code",
   "execution_count": 27,
   "metadata": {
    "execution": {
     "iopub.execute_input": "2020-10-20T19:50:42.983128Z",
     "iopub.status.busy": "2020-10-20T19:50:42.968970Z",
     "iopub.status.idle": "2020-10-20T19:50:42.988301Z",
     "shell.execute_reply": "2020-10-20T19:50:42.987486Z"
    },
    "papermill": {
     "duration": 0.067103,
     "end_time": "2020-10-20T19:50:42.988421",
     "exception": false,
     "start_time": "2020-10-20T19:50:42.921318",
     "status": "completed"
    },
    "tags": []
   },
   "outputs": [
    {
     "data": {
      "text/plain": [
       "0.7469158369764428"
      ]
     },
     "execution_count": 27,
     "metadata": {},
     "output_type": "execute_result"
    }
   ],
   "source": [
    "from sklearn.linear_model import Ridge\n",
    "rid = Ridge(alpha=1)\n",
    "rid.fit(x_train,y_train)\n",
    "rid.score(x_test,y_test)"
   ]
  },
  {
   "cell_type": "code",
   "execution_count": 28,
   "metadata": {
    "execution": {
     "iopub.execute_input": "2020-10-20T19:50:43.075072Z",
     "iopub.status.busy": "2020-10-20T19:50:43.074228Z",
     "iopub.status.idle": "2020-10-20T19:50:43.435795Z",
     "shell.execute_reply": "2020-10-20T19:50:43.435080Z"
    },
    "papermill": {
     "duration": 0.406706,
     "end_time": "2020-10-20T19:50:43.435925",
     "exception": false,
     "start_time": "2020-10-20T19:50:43.029219",
     "status": "completed"
    },
    "tags": []
   },
   "outputs": [
    {
     "data": {
      "text/plain": [
       "0.6991535510937967"
      ]
     },
     "execution_count": 28,
     "metadata": {},
     "output_type": "execute_result"
    }
   ],
   "source": [
    "from sklearn.ensemble import RandomForestRegressor\n",
    "forest = RandomForestRegressor()\n",
    "forest.fit(x_train,y_train)\n",
    "forest.score(x_test,y_test)\n"
   ]
  },
  {
   "cell_type": "code",
   "execution_count": 29,
   "metadata": {
    "execution": {
     "iopub.execute_input": "2020-10-20T19:50:43.526058Z",
     "iopub.status.busy": "2020-10-20T19:50:43.525306Z",
     "iopub.status.idle": "2020-10-20T19:50:43.641840Z",
     "shell.execute_reply": "2020-10-20T19:50:43.641148Z"
    },
    "papermill": {
     "duration": 0.165413,
     "end_time": "2020-10-20T19:50:43.641962",
     "exception": false,
     "start_time": "2020-10-20T19:50:43.476549",
     "status": "completed"
    },
    "tags": []
   },
   "outputs": [
    {
     "data": {
      "text/plain": [
       "0.6634911979747677"
      ]
     },
     "execution_count": 29,
     "metadata": {},
     "output_type": "execute_result"
    }
   ],
   "source": [
    "from sklearn.ensemble import GradientBoostingRegressor\n",
    "boost = GradientBoostingRegressor()\n",
    "boost.fit(x_train,y_train)\n",
    "boost.score(x_test,y_test)"
   ]
  },
  {
   "cell_type": "code",
   "execution_count": 30,
   "metadata": {
    "execution": {
     "iopub.execute_input": "2020-10-20T19:50:43.735662Z",
     "iopub.status.busy": "2020-10-20T19:50:43.734984Z",
     "iopub.status.idle": "2020-10-20T19:50:43.836005Z",
     "shell.execute_reply": "2020-10-20T19:50:43.835418Z"
    },
    "papermill": {
     "duration": 0.15242,
     "end_time": "2020-10-20T19:50:43.836130",
     "exception": false,
     "start_time": "2020-10-20T19:50:43.683710",
     "status": "completed"
    },
    "tags": []
   },
   "outputs": [
    {
     "data": {
      "text/plain": [
       "0.6368327456370826"
      ]
     },
     "execution_count": 30,
     "metadata": {},
     "output_type": "execute_result"
    }
   ],
   "source": [
    "from sklearn.ensemble import AdaBoostRegressor\n",
    "ada = AdaBoostRegressor()\n",
    "ada.fit(x_train,y_train)\n",
    "ada.score(x_test,y_test)"
   ]
  },
  {
   "cell_type": "markdown",
   "metadata": {
    "papermill": {
     "duration": 0.041232,
     "end_time": "2020-10-20T19:50:43.919222",
     "exception": false,
     "start_time": "2020-10-20T19:50:43.877990",
     "status": "completed"
    },
    "tags": []
   },
   "source": [
    "FEATURE IMPORTANCES"
   ]
  },
  {
   "cell_type": "code",
   "execution_count": 31,
   "metadata": {
    "execution": {
     "iopub.execute_input": "2020-10-20T19:50:44.013851Z",
     "iopub.status.busy": "2020-10-20T19:50:44.012964Z",
     "iopub.status.idle": "2020-10-20T19:50:44.017532Z",
     "shell.execute_reply": "2020-10-20T19:50:44.016897Z"
    },
    "papermill": {
     "duration": 0.057217,
     "end_time": "2020-10-20T19:50:44.017671",
     "exception": false,
     "start_time": "2020-10-20T19:50:43.960454",
     "status": "completed"
    },
    "tags": []
   },
   "outputs": [
    {
     "data": {
      "text/plain": [
       "array([0.00723452, 0.01446625, 0.04537639, 0.07859624, 0.02696176,\n",
       "       0.03328994, 0.7940749 ])"
      ]
     },
     "execution_count": 31,
     "metadata": {},
     "output_type": "execute_result"
    }
   ],
   "source": [
    "ada.feature_importances_"
   ]
  },
  {
   "cell_type": "code",
   "execution_count": 32,
   "metadata": {
    "execution": {
     "iopub.execute_input": "2020-10-20T19:50:44.108182Z",
     "iopub.status.busy": "2020-10-20T19:50:44.107309Z",
     "iopub.status.idle": "2020-10-20T19:50:44.175800Z",
     "shell.execute_reply": "2020-10-20T19:50:44.176320Z"
    },
    "papermill": {
     "duration": 0.116662,
     "end_time": "2020-10-20T19:50:44.176480",
     "exception": false,
     "start_time": "2020-10-20T19:50:44.059818",
     "status": "completed"
    },
    "tags": []
   },
   "outputs": [
    {
     "ename": "ModuleNotFoundError",
     "evalue": "No module named 'rfpimp'",
     "output_type": "error",
     "traceback": [
      "\u001b[0;31m---------------------------------------------------------------------------\u001b[0m",
      "\u001b[0;31mModuleNotFoundError\u001b[0m                       Traceback (most recent call last)",
      "\u001b[0;32m<ipython-input-32-d0d52cdb6dbf>\u001b[0m in \u001b[0;36m<module>\u001b[0;34m\u001b[0m\n\u001b[1;32m      1\u001b[0m \u001b[0;32mfrom\u001b[0m \u001b[0msklearn\u001b[0m\u001b[0;34m.\u001b[0m\u001b[0mmetrics\u001b[0m \u001b[0;32mimport\u001b[0m \u001b[0mr2_score\u001b[0m\u001b[0;34m\u001b[0m\u001b[0;34m\u001b[0m\u001b[0m\n\u001b[0;32m----> 2\u001b[0;31m \u001b[0;32mfrom\u001b[0m \u001b[0mrfpimp\u001b[0m \u001b[0;32mimport\u001b[0m \u001b[0mpermutation_importances\u001b[0m\u001b[0;34m\u001b[0m\u001b[0;34m\u001b[0m\u001b[0m\n\u001b[0m\u001b[1;32m      3\u001b[0m \u001b[0;34m\u001b[0m\u001b[0m\n\u001b[1;32m      4\u001b[0m \u001b[0;32mdef\u001b[0m \u001b[0mr2\u001b[0m\u001b[0;34m(\u001b[0m\u001b[0mforest\u001b[0m\u001b[0;34m,\u001b[0m \u001b[0mx_train\u001b[0m\u001b[0;34m,\u001b[0m \u001b[0my_train\u001b[0m\u001b[0;34m)\u001b[0m\u001b[0;34m:\u001b[0m\u001b[0;34m\u001b[0m\u001b[0;34m\u001b[0m\u001b[0m\n\u001b[1;32m      5\u001b[0m     \u001b[0;32mreturn\u001b[0m \u001b[0mr2_score\u001b[0m\u001b[0;34m(\u001b[0m\u001b[0my_train\u001b[0m\u001b[0;34m,\u001b[0m \u001b[0mforest\u001b[0m\u001b[0;34m.\u001b[0m\u001b[0mpredict\u001b[0m\u001b[0;34m(\u001b[0m\u001b[0mx_train\u001b[0m\u001b[0;34m)\u001b[0m\u001b[0;34m)\u001b[0m\u001b[0;34m\u001b[0m\u001b[0;34m\u001b[0m\u001b[0m\n",
      "\u001b[0;31mModuleNotFoundError\u001b[0m: No module named 'rfpimp'"
     ]
    }
   ],
   "source": [
    "from sklearn.metrics import r2_score\n",
    "from rfpimp import permutation_importances\n",
    "\n",
    "def r2(forest, x_train, y_train):\n",
    "    return r2_score(y_train, forest.predict(x_train))\n",
    "\n",
    "perm_imp_rfpimp = permutation_importances(forest, x_train, y_train, r2)"
   ]
  },
  {
   "cell_type": "code",
   "execution_count": 33,
   "metadata": {
    "execution": {
     "iopub.execute_input": "2020-10-20T19:50:44.274112Z",
     "iopub.status.busy": "2020-10-20T19:50:44.273432Z",
     "iopub.status.idle": "2020-10-20T19:50:44.278361Z",
     "shell.execute_reply": "2020-10-20T19:50:44.277715Z"
    },
    "papermill": {
     "duration": 0.059338,
     "end_time": "2020-10-20T19:50:44.278476",
     "exception": false,
     "start_time": "2020-10-20T19:50:44.219138",
     "status": "completed"
    },
    "tags": []
   },
   "outputs": [
    {
     "ename": "NameError",
     "evalue": "name 'perm_imp_rfpimp' is not defined",
     "output_type": "error",
     "traceback": [
      "\u001b[0;31m---------------------------------------------------------------------------\u001b[0m",
      "\u001b[0;31mNameError\u001b[0m                                 Traceback (most recent call last)",
      "\u001b[0;32m<ipython-input-33-168b91a7f2eb>\u001b[0m in \u001b[0;36m<module>\u001b[0;34m\u001b[0m\n\u001b[0;32m----> 1\u001b[0;31m \u001b[0mperm_imp_rfpimp\u001b[0m\u001b[0;34m\u001b[0m\u001b[0;34m\u001b[0m\u001b[0m\n\u001b[0m",
      "\u001b[0;31mNameError\u001b[0m: name 'perm_imp_rfpimp' is not defined"
     ]
    }
   ],
   "source": [
    "perm_imp_rfpimp"
   ]
  },
  {
   "cell_type": "code",
   "execution_count": 34,
   "metadata": {
    "execution": {
     "iopub.execute_input": "2020-10-20T19:50:44.371334Z",
     "iopub.status.busy": "2020-10-20T19:50:44.370402Z",
     "iopub.status.idle": "2020-10-20T19:50:44.385183Z",
     "shell.execute_reply": "2020-10-20T19:50:44.384504Z"
    },
    "papermill": {
     "duration": 0.063496,
     "end_time": "2020-10-20T19:50:44.385301",
     "exception": false,
     "start_time": "2020-10-20T19:50:44.321805",
     "status": "completed"
    },
    "tags": []
   },
   "outputs": [
    {
     "ename": "ModuleNotFoundError",
     "evalue": "No module named 'rfpimp'",
     "output_type": "error",
     "traceback": [
      "\u001b[0;31m---------------------------------------------------------------------------\u001b[0m",
      "\u001b[0;31mModuleNotFoundError\u001b[0m                       Traceback (most recent call last)",
      "\u001b[0;32m<ipython-input-34-5071c18b2a32>\u001b[0m in \u001b[0;36m<module>\u001b[0;34m\u001b[0m\n\u001b[1;32m      1\u001b[0m \u001b[0;32mfrom\u001b[0m \u001b[0msklearn\u001b[0m\u001b[0;34m.\u001b[0m\u001b[0mmetrics\u001b[0m \u001b[0;32mimport\u001b[0m \u001b[0mr2_score\u001b[0m\u001b[0;34m\u001b[0m\u001b[0;34m\u001b[0m\u001b[0m\n\u001b[0;32m----> 2\u001b[0;31m \u001b[0;32mfrom\u001b[0m \u001b[0mrfpimp\u001b[0m \u001b[0;32mimport\u001b[0m \u001b[0mpermutation_importances\u001b[0m\u001b[0;34m\u001b[0m\u001b[0;34m\u001b[0m\u001b[0m\n\u001b[0m\u001b[1;32m      3\u001b[0m \u001b[0;34m\u001b[0m\u001b[0m\n\u001b[1;32m      4\u001b[0m \u001b[0;32mdef\u001b[0m \u001b[0mr2\u001b[0m\u001b[0;34m(\u001b[0m\u001b[0mlinear\u001b[0m\u001b[0;34m,\u001b[0m \u001b[0mx_train\u001b[0m\u001b[0;34m,\u001b[0m \u001b[0my_train\u001b[0m\u001b[0;34m)\u001b[0m\u001b[0;34m:\u001b[0m\u001b[0;34m\u001b[0m\u001b[0;34m\u001b[0m\u001b[0m\n\u001b[1;32m      5\u001b[0m     \u001b[0;32mreturn\u001b[0m \u001b[0mr2_score\u001b[0m\u001b[0;34m(\u001b[0m\u001b[0my_train\u001b[0m\u001b[0;34m,\u001b[0m \u001b[0mlinear\u001b[0m\u001b[0;34m.\u001b[0m\u001b[0mpredict\u001b[0m\u001b[0;34m(\u001b[0m\u001b[0mx_train\u001b[0m\u001b[0;34m)\u001b[0m\u001b[0;34m)\u001b[0m\u001b[0;34m\u001b[0m\u001b[0;34m\u001b[0m\u001b[0m\n",
      "\u001b[0;31mModuleNotFoundError\u001b[0m: No module named 'rfpimp'"
     ]
    }
   ],
   "source": [
    "from sklearn.metrics import r2_score\n",
    "from rfpimp import permutation_importances\n",
    "\n",
    "def r2(linear, x_train, y_train):\n",
    "    return r2_score(y_train, linear.predict(x_train))\n",
    "\n",
    "perm_imp_rfpimp_linear = permutation_importances(linear, x_train, y_train, r2)"
   ]
  },
  {
   "cell_type": "code",
   "execution_count": 35,
   "metadata": {
    "execution": {
     "iopub.execute_input": "2020-10-20T19:50:44.485125Z",
     "iopub.status.busy": "2020-10-20T19:50:44.477231Z",
     "iopub.status.idle": "2020-10-20T19:50:44.490749Z",
     "shell.execute_reply": "2020-10-20T19:50:44.490233Z"
    },
    "papermill": {
     "duration": 0.061309,
     "end_time": "2020-10-20T19:50:44.490866",
     "exception": false,
     "start_time": "2020-10-20T19:50:44.429557",
     "status": "completed"
    },
    "tags": []
   },
   "outputs": [
    {
     "ename": "NameError",
     "evalue": "name 'perm_imp_rfpimp_linear' is not defined",
     "output_type": "error",
     "traceback": [
      "\u001b[0;31m---------------------------------------------------------------------------\u001b[0m",
      "\u001b[0;31mNameError\u001b[0m                                 Traceback (most recent call last)",
      "\u001b[0;32m<ipython-input-35-95787396a962>\u001b[0m in \u001b[0;36m<module>\u001b[0;34m\u001b[0m\n\u001b[0;32m----> 1\u001b[0;31m \u001b[0mperm_imp_rfpimp_linear\u001b[0m\u001b[0;34m\u001b[0m\u001b[0;34m\u001b[0m\u001b[0m\n\u001b[0m",
      "\u001b[0;31mNameError\u001b[0m: name 'perm_imp_rfpimp_linear' is not defined"
     ]
    }
   ],
   "source": [
    "perm_imp_rfpimp_linear"
   ]
  },
  {
   "cell_type": "code",
   "execution_count": 36,
   "metadata": {
    "execution": {
     "iopub.execute_input": "2020-10-20T19:50:44.585571Z",
     "iopub.status.busy": "2020-10-20T19:50:44.584936Z",
     "iopub.status.idle": "2020-10-20T19:50:44.598075Z",
     "shell.execute_reply": "2020-10-20T19:50:44.597506Z"
    },
    "papermill": {
     "duration": 0.062297,
     "end_time": "2020-10-20T19:50:44.598200",
     "exception": false,
     "start_time": "2020-10-20T19:50:44.535903",
     "status": "completed"
    },
    "tags": []
   },
   "outputs": [
    {
     "ename": "ModuleNotFoundError",
     "evalue": "No module named 'rfpimp'",
     "output_type": "error",
     "traceback": [
      "\u001b[0;31m---------------------------------------------------------------------------\u001b[0m",
      "\u001b[0;31mModuleNotFoundError\u001b[0m                       Traceback (most recent call last)",
      "\u001b[0;32m<ipython-input-36-c3e38e94b327>\u001b[0m in \u001b[0;36m<module>\u001b[0;34m\u001b[0m\n\u001b[1;32m      1\u001b[0m \u001b[0;32mfrom\u001b[0m \u001b[0msklearn\u001b[0m\u001b[0;34m.\u001b[0m\u001b[0mmetrics\u001b[0m \u001b[0;32mimport\u001b[0m \u001b[0mr2_score\u001b[0m\u001b[0;34m\u001b[0m\u001b[0;34m\u001b[0m\u001b[0m\n\u001b[0;32m----> 2\u001b[0;31m \u001b[0;32mfrom\u001b[0m \u001b[0mrfpimp\u001b[0m \u001b[0;32mimport\u001b[0m \u001b[0mpermutation_importances\u001b[0m\u001b[0;34m\u001b[0m\u001b[0;34m\u001b[0m\u001b[0m\n\u001b[0m\u001b[1;32m      3\u001b[0m \u001b[0;34m\u001b[0m\u001b[0m\n\u001b[1;32m      4\u001b[0m \u001b[0;32mdef\u001b[0m \u001b[0mr2\u001b[0m\u001b[0;34m(\u001b[0m\u001b[0mrid\u001b[0m\u001b[0;34m,\u001b[0m \u001b[0mx_train\u001b[0m\u001b[0;34m,\u001b[0m \u001b[0my_train\u001b[0m\u001b[0;34m)\u001b[0m\u001b[0;34m:\u001b[0m\u001b[0;34m\u001b[0m\u001b[0;34m\u001b[0m\u001b[0m\n\u001b[1;32m      5\u001b[0m     \u001b[0;32mreturn\u001b[0m \u001b[0mr2_score\u001b[0m\u001b[0;34m(\u001b[0m\u001b[0my_train\u001b[0m\u001b[0;34m,\u001b[0m \u001b[0mrid\u001b[0m\u001b[0;34m.\u001b[0m\u001b[0mpredict\u001b[0m\u001b[0;34m(\u001b[0m\u001b[0mx_train\u001b[0m\u001b[0;34m)\u001b[0m\u001b[0;34m)\u001b[0m\u001b[0;34m\u001b[0m\u001b[0;34m\u001b[0m\u001b[0m\n",
      "\u001b[0;31mModuleNotFoundError\u001b[0m: No module named 'rfpimp'"
     ]
    }
   ],
   "source": [
    "from sklearn.metrics import r2_score\n",
    "from rfpimp import permutation_importances\n",
    "\n",
    "def r2(rid, x_train, y_train):\n",
    "    return r2_score(y_train, rid.predict(x_train))\n",
    "\n",
    "perm_imp_rfpimp_rid = permutation_importances(rid, x_train, y_train, r2)"
   ]
  },
  {
   "cell_type": "code",
   "execution_count": 37,
   "metadata": {
    "execution": {
     "iopub.execute_input": "2020-10-20T19:50:44.699295Z",
     "iopub.status.busy": "2020-10-20T19:50:44.698560Z",
     "iopub.status.idle": "2020-10-20T19:50:44.704102Z",
     "shell.execute_reply": "2020-10-20T19:50:44.703614Z"
    },
    "papermill": {
     "duration": 0.062227,
     "end_time": "2020-10-20T19:50:44.704284",
     "exception": false,
     "start_time": "2020-10-20T19:50:44.642057",
     "status": "completed"
    },
    "tags": []
   },
   "outputs": [
    {
     "ename": "NameError",
     "evalue": "name 'perm_imp_rfpimp_rid' is not defined",
     "output_type": "error",
     "traceback": [
      "\u001b[0;31m---------------------------------------------------------------------------\u001b[0m",
      "\u001b[0;31mNameError\u001b[0m                                 Traceback (most recent call last)",
      "\u001b[0;32m<ipython-input-37-ce1613352716>\u001b[0m in \u001b[0;36m<module>\u001b[0;34m\u001b[0m\n\u001b[0;32m----> 1\u001b[0;31m \u001b[0mperm_imp_rfpimp_rid\u001b[0m\u001b[0;34m\u001b[0m\u001b[0;34m\u001b[0m\u001b[0m\n\u001b[0m",
      "\u001b[0;31mNameError\u001b[0m: name 'perm_imp_rfpimp_rid' is not defined"
     ]
    }
   ],
   "source": [
    "perm_imp_rfpimp_rid"
   ]
  },
  {
   "cell_type": "markdown",
   "metadata": {
    "papermill": {
     "duration": 0.044825,
     "end_time": "2020-10-20T19:50:44.793995",
     "exception": false,
     "start_time": "2020-10-20T19:50:44.749170",
     "status": "completed"
    },
    "tags": []
   },
   "source": [
    "Age and Gender are least important factors so we would remove them"
   ]
  },
  {
   "cell_type": "code",
   "execution_count": 38,
   "metadata": {
    "execution": {
     "iopub.execute_input": "2020-10-20T19:50:44.945486Z",
     "iopub.status.busy": "2020-10-20T19:50:44.944522Z",
     "iopub.status.idle": "2020-10-20T19:50:44.947839Z",
     "shell.execute_reply": "2020-10-20T19:50:44.947310Z"
    },
    "papermill": {
     "duration": 0.054547,
     "end_time": "2020-10-20T19:50:44.947955",
     "exception": false,
     "start_time": "2020-10-20T19:50:44.893408",
     "status": "completed"
    },
    "tags": []
   },
   "outputs": [],
   "source": [
    "x_new = df[[ 'interest', 'Impressions', 'Clicks', 'Spent',\n",
    "       'Total_Conversion']]\n",
    "y = df['Approved_Conversion']"
   ]
  },
  {
   "cell_type": "code",
   "execution_count": 39,
   "metadata": {
    "execution": {
     "iopub.execute_input": "2020-10-20T19:50:45.047205Z",
     "iopub.status.busy": "2020-10-20T19:50:45.046531Z",
     "iopub.status.idle": "2020-10-20T19:50:45.049980Z",
     "shell.execute_reply": "2020-10-20T19:50:45.049348Z"
    },
    "papermill": {
     "duration": 0.05664,
     "end_time": "2020-10-20T19:50:45.050094",
     "exception": false,
     "start_time": "2020-10-20T19:50:44.993454",
     "status": "completed"
    },
    "tags": []
   },
   "outputs": [],
   "source": [
    "x_train_new,x_test_new,y_train_new,y_test_new = train_test_split(x_new,y,test_size=0.3,random_state=101)"
   ]
  },
  {
   "cell_type": "code",
   "execution_count": 40,
   "metadata": {
    "execution": {
     "iopub.execute_input": "2020-10-20T19:50:45.152824Z",
     "iopub.status.busy": "2020-10-20T19:50:45.151739Z",
     "iopub.status.idle": "2020-10-20T19:50:45.157267Z",
     "shell.execute_reply": "2020-10-20T19:50:45.156613Z"
    },
    "papermill": {
     "duration": 0.062337,
     "end_time": "2020-10-20T19:50:45.157377",
     "exception": false,
     "start_time": "2020-10-20T19:50:45.095040",
     "status": "completed"
    },
    "tags": []
   },
   "outputs": [
    {
     "data": {
      "text/plain": [
       "0.7457447792153814"
      ]
     },
     "execution_count": 40,
     "metadata": {},
     "output_type": "execute_result"
    }
   ],
   "source": [
    "linear.fit(x_train_new,y_train_new)\n",
    "linear.score(x_test_new,y_test_new)"
   ]
  },
  {
   "cell_type": "code",
   "execution_count": 41,
   "metadata": {
    "execution": {
     "iopub.execute_input": "2020-10-20T19:50:45.257960Z",
     "iopub.status.busy": "2020-10-20T19:50:45.255073Z",
     "iopub.status.idle": "2020-10-20T19:50:45.263808Z",
     "shell.execute_reply": "2020-10-20T19:50:45.263133Z"
    },
    "papermill": {
     "duration": 0.061043,
     "end_time": "2020-10-20T19:50:45.263924",
     "exception": false,
     "start_time": "2020-10-20T19:50:45.202881",
     "status": "completed"
    },
    "tags": []
   },
   "outputs": [
    {
     "data": {
      "text/plain": [
       "0.7457396091158214"
      ]
     },
     "execution_count": 41,
     "metadata": {},
     "output_type": "execute_result"
    }
   ],
   "source": [
    "rid.fit(x_train_new,y_train_new)\n",
    "rid.score(x_test_new,y_test_new)"
   ]
  },
  {
   "cell_type": "code",
   "execution_count": 42,
   "metadata": {
    "execution": {
     "iopub.execute_input": "2020-10-20T19:50:45.377481Z",
     "iopub.status.busy": "2020-10-20T19:50:45.361618Z",
     "iopub.status.idle": "2020-10-20T19:50:45.664258Z",
     "shell.execute_reply": "2020-10-20T19:50:45.664757Z"
    },
    "papermill": {
     "duration": 0.355498,
     "end_time": "2020-10-20T19:50:45.664912",
     "exception": false,
     "start_time": "2020-10-20T19:50:45.309414",
     "status": "completed"
    },
    "tags": []
   },
   "outputs": [
    {
     "data": {
      "text/plain": [
       "0.6874654180401558"
      ]
     },
     "execution_count": 42,
     "metadata": {},
     "output_type": "execute_result"
    }
   ],
   "source": [
    "forest.fit(x_train_new,y_train_new)\n",
    "forest.score(x_test_new,y_test_new)"
   ]
  },
  {
   "cell_type": "code",
   "execution_count": null,
   "metadata": {
    "papermill": {
     "duration": 0.046259,
     "end_time": "2020-10-20T19:50:45.758181",
     "exception": false,
     "start_time": "2020-10-20T19:50:45.711922",
     "status": "completed"
    },
    "tags": []
   },
   "outputs": [],
   "source": []
  }
 ],
 "metadata": {
  "kernelspec": {
   "display_name": "Python 3",
   "language": "python",
   "name": "python3"
  },
  "language_info": {
   "codemirror_mode": {
    "name": "ipython",
    "version": 3
   },
   "file_extension": ".py",
   "mimetype": "text/x-python",
   "name": "python",
   "nbconvert_exporter": "python",
   "pygments_lexer": "ipython3",
   "version": "3.7.6"
  },
  "papermill": {
   "duration": 13.37912,
   "end_time": "2020-10-20T19:50:45.912407",
   "environment_variables": {},
   "exception": null,
   "input_path": "__notebook__.ipynb",
   "output_path": "__notebook__.ipynb",
   "parameters": {},
   "start_time": "2020-10-20T19:50:32.533287",
   "version": "2.1.0"
  }
 },
 "nbformat": 4,
 "nbformat_minor": 4
}
