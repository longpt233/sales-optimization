{
 "cells": [
  {
   "cell_type": "code",
   "execution_count": 1,
   "id": "d1d9bb7f",
   "metadata": {
    "execution": {
     "iopub.execute_input": "2021-09-02T05:12:48.398383Z",
     "iopub.status.busy": "2021-09-02T05:12:48.396542Z",
     "iopub.status.idle": "2021-09-02T05:12:48.399072Z",
     "shell.execute_reply": "2021-09-02T05:12:48.399536Z",
     "shell.execute_reply.started": "2021-09-02T03:21:39.160902Z"
    },
    "papermill": {
     "duration": 0.031202,
     "end_time": "2021-09-02T05:12:48.399885",
     "exception": false,
     "start_time": "2021-09-02T05:12:48.368683",
     "status": "completed"
    },
    "slideshow": {
     "slide_type": "-"
    },
    "tags": []
   },
   "outputs": [],
   "source": [
    "#Importing library that are needed"
   ]
  },
  {
   "cell_type": "code",
   "execution_count": 2,
   "id": "51b6df2a",
   "metadata": {
    "execution": {
     "iopub.execute_input": "2021-09-02T05:12:48.443844Z",
     "iopub.status.busy": "2021-09-02T05:12:48.442837Z",
     "iopub.status.idle": "2021-09-02T05:12:49.578151Z",
     "shell.execute_reply": "2021-09-02T05:12:49.577426Z",
     "shell.execute_reply.started": "2021-09-02T03:21:39.166757Z"
    },
    "papermill": {
     "duration": 1.158557,
     "end_time": "2021-09-02T05:12:49.578322",
     "exception": false,
     "start_time": "2021-09-02T05:12:48.419765",
     "status": "completed"
    },
    "slideshow": {
     "slide_type": "subslide"
    },
    "tags": []
   },
   "outputs": [],
   "source": [
    "import numpy as np \n",
    "import pandas as pd\n",
    "import matplotlib.pyplot as plt\n",
    "import seaborn as sns"
   ]
  },
  {
   "cell_type": "code",
   "execution_count": 3,
   "id": "808fd7ca",
   "metadata": {
    "execution": {
     "iopub.execute_input": "2021-09-02T05:12:49.624207Z",
     "iopub.status.busy": "2021-09-02T05:12:49.623160Z",
     "iopub.status.idle": "2021-09-02T05:12:49.626421Z",
     "shell.execute_reply": "2021-09-02T05:12:49.625901Z",
     "shell.execute_reply.started": "2021-09-02T03:21:39.181184Z"
    },
    "papermill": {
     "duration": 0.027605,
     "end_time": "2021-09-02T05:12:49.626601",
     "exception": false,
     "start_time": "2021-09-02T05:12:49.598996",
     "status": "completed"
    },
    "slideshow": {
     "slide_type": "slide"
    },
    "tags": []
   },
   "outputs": [],
   "source": [
    "# Reading CSV file \n",
    "# Printing first five row of the dataset"
   ]
  },
  {
   "cell_type": "code",
   "execution_count": 4,
   "id": "fbaa7299",
   "metadata": {
    "execution": {
     "iopub.execute_input": "2021-09-02T05:12:49.671404Z",
     "iopub.status.busy": "2021-09-02T05:12:49.670640Z",
     "iopub.status.idle": "2021-09-02T05:12:49.734353Z",
     "shell.execute_reply": "2021-09-02T05:12:49.734902Z",
     "shell.execute_reply.started": "2021-09-02T03:21:39.192997Z"
    },
    "papermill": {
     "duration": 0.089185,
     "end_time": "2021-09-02T05:12:49.735135",
     "exception": false,
     "start_time": "2021-09-02T05:12:49.645950",
     "status": "completed"
    },
    "scrolled": true,
    "slideshow": {
     "slide_type": "slide"
    },
    "tags": []
   },
   "outputs": [
    {
     "data": {
      "text/html": [
       "<div>\n",
       "<style scoped>\n",
       "    .dataframe tbody tr th:only-of-type {\n",
       "        vertical-align: middle;\n",
       "    }\n",
       "\n",
       "    .dataframe tbody tr th {\n",
       "        vertical-align: top;\n",
       "    }\n",
       "\n",
       "    .dataframe thead th {\n",
       "        text-align: right;\n",
       "    }\n",
       "</style>\n",
       "<table border=\"1\" class=\"dataframe\">\n",
       "  <thead>\n",
       "    <tr style=\"text-align: right;\">\n",
       "      <th></th>\n",
       "      <th>ad_id</th>\n",
       "      <th>xyz_campaign_id</th>\n",
       "      <th>fb_campaign_id</th>\n",
       "      <th>age</th>\n",
       "      <th>gender</th>\n",
       "      <th>interest</th>\n",
       "      <th>Impressions</th>\n",
       "      <th>Clicks</th>\n",
       "      <th>Spent</th>\n",
       "      <th>Total_Conversion</th>\n",
       "      <th>Approved_Conversion</th>\n",
       "    </tr>\n",
       "  </thead>\n",
       "  <tbody>\n",
       "    <tr>\n",
       "      <th>0</th>\n",
       "      <td>708746</td>\n",
       "      <td>916</td>\n",
       "      <td>103916</td>\n",
       "      <td>30-34</td>\n",
       "      <td>M</td>\n",
       "      <td>15</td>\n",
       "      <td>7350</td>\n",
       "      <td>1</td>\n",
       "      <td>1.43</td>\n",
       "      <td>2</td>\n",
       "      <td>1</td>\n",
       "    </tr>\n",
       "    <tr>\n",
       "      <th>1</th>\n",
       "      <td>708749</td>\n",
       "      <td>916</td>\n",
       "      <td>103917</td>\n",
       "      <td>30-34</td>\n",
       "      <td>M</td>\n",
       "      <td>16</td>\n",
       "      <td>17861</td>\n",
       "      <td>2</td>\n",
       "      <td>1.82</td>\n",
       "      <td>2</td>\n",
       "      <td>0</td>\n",
       "    </tr>\n",
       "    <tr>\n",
       "      <th>2</th>\n",
       "      <td>708771</td>\n",
       "      <td>916</td>\n",
       "      <td>103920</td>\n",
       "      <td>30-34</td>\n",
       "      <td>M</td>\n",
       "      <td>20</td>\n",
       "      <td>693</td>\n",
       "      <td>0</td>\n",
       "      <td>0.00</td>\n",
       "      <td>1</td>\n",
       "      <td>0</td>\n",
       "    </tr>\n",
       "    <tr>\n",
       "      <th>3</th>\n",
       "      <td>708815</td>\n",
       "      <td>916</td>\n",
       "      <td>103928</td>\n",
       "      <td>30-34</td>\n",
       "      <td>M</td>\n",
       "      <td>28</td>\n",
       "      <td>4259</td>\n",
       "      <td>1</td>\n",
       "      <td>1.25</td>\n",
       "      <td>1</td>\n",
       "      <td>0</td>\n",
       "    </tr>\n",
       "    <tr>\n",
       "      <th>4</th>\n",
       "      <td>708818</td>\n",
       "      <td>916</td>\n",
       "      <td>103928</td>\n",
       "      <td>30-34</td>\n",
       "      <td>M</td>\n",
       "      <td>28</td>\n",
       "      <td>4133</td>\n",
       "      <td>1</td>\n",
       "      <td>1.29</td>\n",
       "      <td>1</td>\n",
       "      <td>1</td>\n",
       "    </tr>\n",
       "  </tbody>\n",
       "</table>\n",
       "</div>"
      ],
      "text/plain": [
       "    ad_id  xyz_campaign_id  fb_campaign_id    age gender  interest  \\\n",
       "0  708746              916          103916  30-34      M        15   \n",
       "1  708749              916          103917  30-34      M        16   \n",
       "2  708771              916          103920  30-34      M        20   \n",
       "3  708815              916          103928  30-34      M        28   \n",
       "4  708818              916          103928  30-34      M        28   \n",
       "\n",
       "   Impressions  Clicks  Spent  Total_Conversion  Approved_Conversion  \n",
       "0         7350       1   1.43                 2                    1  \n",
       "1        17861       2   1.82                 2                    0  \n",
       "2          693       0   0.00                 1                    0  \n",
       "3         4259       1   1.25                 1                    0  \n",
       "4         4133       1   1.29                 1                    1  "
      ]
     },
     "execution_count": 4,
     "metadata": {},
     "output_type": "execute_result"
    }
   ],
   "source": [
    "df = pd.read_csv(\"../input/clicks-conversion-tracking/KAG_conversion_data.csv\")\n",
    "df.head()"
   ]
  },
  {
   "cell_type": "markdown",
   "id": "dac9487c",
   "metadata": {
    "papermill": {
     "duration": 0.019928,
     "end_time": "2021-09-02T05:12:49.775945",
     "exception": false,
     "start_time": "2021-09-02T05:12:49.756017",
     "status": "completed"
    },
    "slideshow": {
     "slide_type": "subslide"
    },
    "tags": []
   },
   "source": [
    "Description of the variable: \n",
    "\n",
    "1. ad_id: an unique ID for each ad.\n",
    "\n",
    "2. xyzcampaignid: an ID associated with each ad campaign of XYZ company.\n",
    "\n",
    "3. fbcampaignid: an ID associated with how Facebook tracks each campaign.\n",
    "\n",
    "4. age: age of the person to whom the ad is shown.\n",
    "\n",
    "5. gender: gender of the person to whim the add is shown\n",
    "\n",
    "6. interest: a code specifying the category to which the person’s interest belongs (interests are as mentioned in the person’s Facebook public profile).\n",
    "\n",
    "7. Impressions: the number of times the ad was shown.\n",
    "\n",
    "8. Clicks: number of clicks on for that ad.\n",
    "\n",
    "9. Spent: Amount paid by company xyz to Facebook, to show that ad.\n",
    "\n",
    "10. Total conversion: Total number of people who enquired about the product after seeing the ad.\n",
    "\n",
    "11. Approved conversion: Total number of people who bought the product after seeing the ad."
   ]
  },
  {
   "cell_type": "code",
   "execution_count": 5,
   "id": "5178c95f",
   "metadata": {
    "execution": {
     "iopub.execute_input": "2021-09-02T05:12:49.843568Z",
     "iopub.status.busy": "2021-09-02T05:12:49.842791Z",
     "iopub.status.idle": "2021-09-02T05:12:49.847331Z",
     "shell.execute_reply": "2021-09-02T05:12:49.846621Z",
     "shell.execute_reply.started": "2021-09-02T03:21:39.229645Z"
    },
    "papermill": {
     "duration": 0.050321,
     "end_time": "2021-09-02T05:12:49.847505",
     "exception": false,
     "start_time": "2021-09-02T05:12:49.797184",
     "status": "completed"
    },
    "slideshow": {
     "slide_type": "slide"
    },
    "tags": []
   },
   "outputs": [
    {
     "name": "stdout",
     "output_type": "stream",
     "text": [
      "<class 'pandas.core.frame.DataFrame'>\n",
      "RangeIndex: 1143 entries, 0 to 1142\n",
      "Data columns (total 11 columns):\n",
      " #   Column               Non-Null Count  Dtype  \n",
      "---  ------               --------------  -----  \n",
      " 0   ad_id                1143 non-null   int64  \n",
      " 1   xyz_campaign_id      1143 non-null   int64  \n",
      " 2   fb_campaign_id       1143 non-null   int64  \n",
      " 3   age                  1143 non-null   object \n",
      " 4   gender               1143 non-null   object \n",
      " 5   interest             1143 non-null   int64  \n",
      " 6   Impressions          1143 non-null   int64  \n",
      " 7   Clicks               1143 non-null   int64  \n",
      " 8   Spent                1143 non-null   float64\n",
      " 9   Total_Conversion     1143 non-null   int64  \n",
      " 10  Approved_Conversion  1143 non-null   int64  \n",
      "dtypes: float64(1), int64(8), object(2)\n",
      "memory usage: 98.4+ KB\n"
     ]
    }
   ],
   "source": [
    "df.info()"
   ]
  },
  {
   "cell_type": "markdown",
   "id": "104d67ea",
   "metadata": {
    "papermill": {
     "duration": 0.020039,
     "end_time": "2021-09-02T05:12:49.888391",
     "exception": false,
     "start_time": "2021-09-02T05:12:49.868352",
     "status": "completed"
    },
    "slideshow": {
     "slide_type": "subslide"
    },
    "tags": []
   },
   "source": [
    "It show column name, number of data in each column along with thier data type. It also show the count of non-null values. "
   ]
  },
  {
   "cell_type": "markdown",
   "id": "2415bf76",
   "metadata": {
    "papermill": {
     "duration": 0.020116,
     "end_time": "2021-09-02T05:12:49.929171",
     "exception": false,
     "start_time": "2021-09-02T05:12:49.909055",
     "status": "completed"
    },
    "slideshow": {
     "slide_type": "slide"
    },
    "tags": []
   },
   "source": [
    "<h1>Descriptive Statistics</h1>\n"
   ]
  },
  {
   "cell_type": "code",
   "execution_count": 6,
   "id": "07fbb9a3",
   "metadata": {
    "execution": {
     "iopub.execute_input": "2021-09-02T05:12:49.980395Z",
     "iopub.status.busy": "2021-09-02T05:12:49.979637Z",
     "iopub.status.idle": "2021-09-02T05:12:50.016627Z",
     "shell.execute_reply": "2021-09-02T05:12:50.016056Z",
     "shell.execute_reply.started": "2021-09-02T03:21:39.260691Z"
    },
    "papermill": {
     "duration": 0.067142,
     "end_time": "2021-09-02T05:12:50.016793",
     "exception": false,
     "start_time": "2021-09-02T05:12:49.949651",
     "status": "completed"
    },
    "slideshow": {
     "slide_type": "slide"
    },
    "tags": []
   },
   "outputs": [
    {
     "data": {
      "text/html": [
       "<div>\n",
       "<style scoped>\n",
       "    .dataframe tbody tr th:only-of-type {\n",
       "        vertical-align: middle;\n",
       "    }\n",
       "\n",
       "    .dataframe tbody tr th {\n",
       "        vertical-align: top;\n",
       "    }\n",
       "\n",
       "    .dataframe thead th {\n",
       "        text-align: right;\n",
       "    }\n",
       "</style>\n",
       "<table border=\"1\" class=\"dataframe\">\n",
       "  <thead>\n",
       "    <tr style=\"text-align: right;\">\n",
       "      <th></th>\n",
       "      <th>ad_id</th>\n",
       "      <th>xyz_campaign_id</th>\n",
       "      <th>fb_campaign_id</th>\n",
       "      <th>interest</th>\n",
       "      <th>Impressions</th>\n",
       "      <th>Clicks</th>\n",
       "      <th>Spent</th>\n",
       "      <th>Total_Conversion</th>\n",
       "      <th>Approved_Conversion</th>\n",
       "    </tr>\n",
       "  </thead>\n",
       "  <tbody>\n",
       "    <tr>\n",
       "      <th>count</th>\n",
       "      <td>1.143000e+03</td>\n",
       "      <td>1143.000000</td>\n",
       "      <td>1143.000000</td>\n",
       "      <td>1143.000000</td>\n",
       "      <td>1.143000e+03</td>\n",
       "      <td>1143.000000</td>\n",
       "      <td>1143.000000</td>\n",
       "      <td>1143.000000</td>\n",
       "      <td>1143.000000</td>\n",
       "    </tr>\n",
       "    <tr>\n",
       "      <th>mean</th>\n",
       "      <td>9.872611e+05</td>\n",
       "      <td>1067.382327</td>\n",
       "      <td>133783.989501</td>\n",
       "      <td>32.766404</td>\n",
       "      <td>1.867321e+05</td>\n",
       "      <td>33.390201</td>\n",
       "      <td>51.360656</td>\n",
       "      <td>2.855643</td>\n",
       "      <td>0.944007</td>\n",
       "    </tr>\n",
       "    <tr>\n",
       "      <th>std</th>\n",
       "      <td>1.939928e+05</td>\n",
       "      <td>121.629393</td>\n",
       "      <td>20500.308622</td>\n",
       "      <td>26.952131</td>\n",
       "      <td>3.127622e+05</td>\n",
       "      <td>56.892438</td>\n",
       "      <td>86.908418</td>\n",
       "      <td>4.483593</td>\n",
       "      <td>1.737708</td>\n",
       "    </tr>\n",
       "    <tr>\n",
       "      <th>min</th>\n",
       "      <td>7.087460e+05</td>\n",
       "      <td>916.000000</td>\n",
       "      <td>103916.000000</td>\n",
       "      <td>2.000000</td>\n",
       "      <td>8.700000e+01</td>\n",
       "      <td>0.000000</td>\n",
       "      <td>0.000000</td>\n",
       "      <td>0.000000</td>\n",
       "      <td>0.000000</td>\n",
       "    </tr>\n",
       "    <tr>\n",
       "      <th>25%</th>\n",
       "      <td>7.776325e+05</td>\n",
       "      <td>936.000000</td>\n",
       "      <td>115716.000000</td>\n",
       "      <td>16.000000</td>\n",
       "      <td>6.503500e+03</td>\n",
       "      <td>1.000000</td>\n",
       "      <td>1.480000</td>\n",
       "      <td>1.000000</td>\n",
       "      <td>0.000000</td>\n",
       "    </tr>\n",
       "    <tr>\n",
       "      <th>50%</th>\n",
       "      <td>1.121185e+06</td>\n",
       "      <td>1178.000000</td>\n",
       "      <td>144549.000000</td>\n",
       "      <td>25.000000</td>\n",
       "      <td>5.150900e+04</td>\n",
       "      <td>8.000000</td>\n",
       "      <td>12.370000</td>\n",
       "      <td>1.000000</td>\n",
       "      <td>1.000000</td>\n",
       "    </tr>\n",
       "    <tr>\n",
       "      <th>75%</th>\n",
       "      <td>1.121804e+06</td>\n",
       "      <td>1178.000000</td>\n",
       "      <td>144657.500000</td>\n",
       "      <td>31.000000</td>\n",
       "      <td>2.217690e+05</td>\n",
       "      <td>37.500000</td>\n",
       "      <td>60.025000</td>\n",
       "      <td>3.000000</td>\n",
       "      <td>1.000000</td>\n",
       "    </tr>\n",
       "    <tr>\n",
       "      <th>max</th>\n",
       "      <td>1.314415e+06</td>\n",
       "      <td>1178.000000</td>\n",
       "      <td>179982.000000</td>\n",
       "      <td>114.000000</td>\n",
       "      <td>3.052003e+06</td>\n",
       "      <td>421.000000</td>\n",
       "      <td>639.949998</td>\n",
       "      <td>60.000000</td>\n",
       "      <td>21.000000</td>\n",
       "    </tr>\n",
       "  </tbody>\n",
       "</table>\n",
       "</div>"
      ],
      "text/plain": [
       "              ad_id  xyz_campaign_id  fb_campaign_id     interest  \\\n",
       "count  1.143000e+03      1143.000000     1143.000000  1143.000000   \n",
       "mean   9.872611e+05      1067.382327   133783.989501    32.766404   \n",
       "std    1.939928e+05       121.629393    20500.308622    26.952131   \n",
       "min    7.087460e+05       916.000000   103916.000000     2.000000   \n",
       "25%    7.776325e+05       936.000000   115716.000000    16.000000   \n",
       "50%    1.121185e+06      1178.000000   144549.000000    25.000000   \n",
       "75%    1.121804e+06      1178.000000   144657.500000    31.000000   \n",
       "max    1.314415e+06      1178.000000   179982.000000   114.000000   \n",
       "\n",
       "        Impressions       Clicks        Spent  Total_Conversion  \\\n",
       "count  1.143000e+03  1143.000000  1143.000000       1143.000000   \n",
       "mean   1.867321e+05    33.390201    51.360656          2.855643   \n",
       "std    3.127622e+05    56.892438    86.908418          4.483593   \n",
       "min    8.700000e+01     0.000000     0.000000          0.000000   \n",
       "25%    6.503500e+03     1.000000     1.480000          1.000000   \n",
       "50%    5.150900e+04     8.000000    12.370000          1.000000   \n",
       "75%    2.217690e+05    37.500000    60.025000          3.000000   \n",
       "max    3.052003e+06   421.000000   639.949998         60.000000   \n",
       "\n",
       "       Approved_Conversion  \n",
       "count          1143.000000  \n",
       "mean              0.944007  \n",
       "std               1.737708  \n",
       "min               0.000000  \n",
       "25%               0.000000  \n",
       "50%               1.000000  \n",
       "75%               1.000000  \n",
       "max              21.000000  "
      ]
     },
     "execution_count": 6,
     "metadata": {},
     "output_type": "execute_result"
    }
   ],
   "source": [
    "df.describe()"
   ]
  },
  {
   "cell_type": "markdown",
   "id": "ab51bc4d",
   "metadata": {
    "papermill": {
     "duration": 0.021099,
     "end_time": "2021-09-02T05:12:50.059368",
     "exception": false,
     "start_time": "2021-09-02T05:12:50.038269",
     "status": "completed"
    },
    "slideshow": {
     "slide_type": "subslide"
    },
    "tags": []
   },
   "source": [
    "Descriptive statistics include those that summarize the central tendency, dispersion and shape of a dataset’s distribution, excluding NaN values. \n",
    "\n",
    "Count: Tell the number of rows in the data set \n",
    "mean: Mean of the values in that column \n",
    "std: Standared deviation of values in that column \n",
    "min and max: Minimum and maximum value of that column \n",
    "25%, 50% and 70% : This value show the 25th, 50th, and 75th percentiles."
   ]
  },
  {
   "cell_type": "code",
   "execution_count": 7,
   "id": "55daf8d4",
   "metadata": {
    "execution": {
     "iopub.execute_input": "2021-09-02T05:12:50.113695Z",
     "iopub.status.busy": "2021-09-02T05:12:50.112665Z",
     "iopub.status.idle": "2021-09-02T05:12:50.117422Z",
     "shell.execute_reply": "2021-09-02T05:12:50.116830Z",
     "shell.execute_reply.started": "2021-09-02T03:21:39.321513Z"
    },
    "papermill": {
     "duration": 0.036914,
     "end_time": "2021-09-02T05:12:50.117589",
     "exception": false,
     "start_time": "2021-09-02T05:12:50.080675",
     "status": "completed"
    },
    "tags": []
   },
   "outputs": [
    {
     "data": {
      "text/html": [
       "<div>\n",
       "<style scoped>\n",
       "    .dataframe tbody tr th:only-of-type {\n",
       "        vertical-align: middle;\n",
       "    }\n",
       "\n",
       "    .dataframe tbody tr th {\n",
       "        vertical-align: top;\n",
       "    }\n",
       "\n",
       "    .dataframe thead th {\n",
       "        text-align: right;\n",
       "    }\n",
       "</style>\n",
       "<table border=\"1\" class=\"dataframe\">\n",
       "  <thead>\n",
       "    <tr style=\"text-align: right;\">\n",
       "      <th></th>\n",
       "      <th>xyz_campaign_id</th>\n",
       "      <th>Spent</th>\n",
       "    </tr>\n",
       "  </thead>\n",
       "  <tbody>\n",
       "    <tr>\n",
       "      <th>0</th>\n",
       "      <td>916</td>\n",
       "      <td>1.43</td>\n",
       "    </tr>\n",
       "    <tr>\n",
       "      <th>1</th>\n",
       "      <td>916</td>\n",
       "      <td>1.82</td>\n",
       "    </tr>\n",
       "    <tr>\n",
       "      <th>2</th>\n",
       "      <td>916</td>\n",
       "      <td>0.00</td>\n",
       "    </tr>\n",
       "    <tr>\n",
       "      <th>3</th>\n",
       "      <td>916</td>\n",
       "      <td>1.25</td>\n",
       "    </tr>\n",
       "    <tr>\n",
       "      <th>4</th>\n",
       "      <td>916</td>\n",
       "      <td>1.29</td>\n",
       "    </tr>\n",
       "  </tbody>\n",
       "</table>\n",
       "</div>"
      ],
      "text/plain": [
       "   xyz_campaign_id  Spent\n",
       "0              916   1.43\n",
       "1              916   1.82\n",
       "2              916   0.00\n",
       "3              916   1.25\n",
       "4              916   1.29"
      ]
     },
     "execution_count": 7,
     "metadata": {},
     "output_type": "execute_result"
    }
   ],
   "source": [
    "data = df[['xyz_campaign_id', 'Spent']]\n",
    "data.head()"
   ]
  },
  {
   "cell_type": "code",
   "execution_count": 8,
   "id": "53cf26a5",
   "metadata": {
    "execution": {
     "iopub.execute_input": "2021-09-02T05:12:50.171903Z",
     "iopub.status.busy": "2021-09-02T05:12:50.171096Z",
     "iopub.status.idle": "2021-09-02T05:12:50.335112Z",
     "shell.execute_reply": "2021-09-02T05:12:50.334398Z",
     "shell.execute_reply.started": "2021-09-02T03:24:40.668517Z"
    },
    "papermill": {
     "duration": 0.194781,
     "end_time": "2021-09-02T05:12:50.335282",
     "exception": false,
     "start_time": "2021-09-02T05:12:50.140501",
     "status": "completed"
    },
    "slideshow": {
     "slide_type": "slide"
    },
    "tags": []
   },
   "outputs": [
    {
     "data": {
      "image/png": "[encoded data removed]",
      "text/plain": [
       "<Figure size 432x288 with 1 Axes>"
      ]
     },
     "metadata": {
      "needs_background": "light"
     },
     "output_type": "display_data"
    }
   ],
   "source": [
    "sns.countplot(x=\"xyz_campaign_id\",data = df).set_title(\"Count of Campaign\")\n",
    "plt.show()"
   ]
  },
  {
   "cell_type": "markdown",
   "id": "92ec213d",
   "metadata": {
    "papermill": {
     "duration": 0.023141,
     "end_time": "2021-09-02T05:12:50.381132",
     "exception": false,
     "start_time": "2021-09-02T05:12:50.357991",
     "status": "completed"
    },
    "slideshow": {
     "slide_type": "subslide"
    },
    "tags": []
   },
   "source": [
    "Above graph show which add campaign was done most of the time. Campaign_id 1178 was done maximum number of time as copmared to other twi"
   ]
  },
  {
   "cell_type": "code",
   "execution_count": 9,
   "id": "38baa504",
   "metadata": {
    "execution": {
     "iopub.execute_input": "2021-09-02T05:12:50.441587Z",
     "iopub.status.busy": "2021-09-02T05:12:50.431740Z",
     "iopub.status.idle": "2021-09-02T05:12:50.661601Z",
     "shell.execute_reply": "2021-09-02T05:12:50.660847Z",
     "shell.execute_reply.started": "2021-09-02T03:21:59.119678Z"
    },
    "papermill": {
     "duration": 0.258228,
     "end_time": "2021-09-02T05:12:50.661768",
     "exception": false,
     "start_time": "2021-09-02T05:12:50.403540",
     "status": "completed"
    },
    "slideshow": {
     "slide_type": "slide"
    },
    "tags": []
   },
   "outputs": [
    {
     "data": {
      "image/png": "[encoded data removed]",
      "text/plain": [
       "<Figure size 432x288 with 1 Axes>"
      ]
     },
     "metadata": {
      "needs_background": "light"
     },
     "output_type": "display_data"
    }
   ],
   "source": [
    "sns.barplot(x=\"xyz_campaign_id\",y= \"Spent\",data = df).set_title(\"Money spent on Campaign\")\n",
    "plt.show()"
   ]
  },
  {
   "cell_type": "markdown",
   "id": "c1e3fe0d",
   "metadata": {
    "papermill": {
     "duration": 0.023138,
     "end_time": "2021-09-02T05:12:50.708230",
     "exception": false,
     "start_time": "2021-09-02T05:12:50.685092",
     "status": "completed"
    },
    "slideshow": {
     "slide_type": "subslide"
    },
    "tags": []
   },
   "source": [
    "Money spent on camapaign with campaign id 1178 is almost 4 times of the other two campaign. "
   ]
  },
  {
   "cell_type": "code",
   "execution_count": 10,
   "id": "0cf588f0",
   "metadata": {
    "execution": {
     "iopub.execute_input": "2021-09-02T05:12:50.769773Z",
     "iopub.status.busy": "2021-09-02T05:12:50.761657Z",
     "iopub.status.idle": "2021-09-02T05:12:51.107921Z",
     "shell.execute_reply": "2021-09-02T05:12:51.107212Z",
     "shell.execute_reply.started": "2021-09-02T03:21:59.441896Z"
    },
    "papermill": {
     "duration": 0.3764,
     "end_time": "2021-09-02T05:12:51.108087",
     "exception": false,
     "start_time": "2021-09-02T05:12:50.731687",
     "status": "completed"
    },
    "slideshow": {
     "slide_type": "slide"
    },
    "tags": []
   },
   "outputs": [
    {
     "data": {
      "text/plain": [
       "<AxesSubplot:>"
      ]
     },
     "execution_count": 10,
     "metadata": {},
     "output_type": "execute_result"
    },
    {
     "data": {
      "image/png": "[encoded data removed]",
      "text/plain": [
       "<Figure size 432x288 with 2 Axes>"
      ]
     },
     "metadata": {
      "needs_background": "light"
     },
     "output_type": "display_data"
    }
   ],
   "source": [
    "sns.heatmap(df[[\"Impressions\",\"Clicks\",\"Spent\",\"Total_Conversion\",\"Approved_Conversion\"]].corr(),annot=True,cmap=\"YlGnBu\")"
   ]
  },
  {
   "cell_type": "markdown",
   "id": "cb4ec85e",
   "metadata": {
    "papermill": {
     "duration": 0.024959,
     "end_time": "2021-09-02T05:12:51.158568",
     "exception": false,
     "start_time": "2021-09-02T05:12:51.133609",
     "status": "completed"
    },
    "slideshow": {
     "slide_type": "subslide"
    },
    "tags": []
   },
   "source": [
    "From the above heatmap, we can see that the correlation value for impression and total conversion is high as comapared to corrrelation between impression and approved conversion. \n",
    "Through this we can interpret that when the ad is shown multiple time to the people they check that out for sure. "
   ]
  },
  {
   "cell_type": "code",
   "execution_count": 11,
   "id": "aea48715",
   "metadata": {
    "execution": {
     "iopub.execute_input": "2021-09-02T05:12:51.217117Z",
     "iopub.status.busy": "2021-09-02T05:12:51.215394Z",
     "iopub.status.idle": "2021-09-02T05:12:51.725690Z",
     "shell.execute_reply": "2021-09-02T05:12:51.724992Z",
     "shell.execute_reply.started": "2021-09-02T03:21:59.839499Z"
    },
    "papermill": {
     "duration": 0.542145,
     "end_time": "2021-09-02T05:12:51.725884",
     "exception": false,
     "start_time": "2021-09-02T05:12:51.183739",
     "status": "completed"
    },
    "slideshow": {
     "slide_type": "slide"
    },
    "tags": []
   },
   "outputs": [
    {
     "data": {
      "text/plain": [
       "<AxesSubplot:xlabel='age', ylabel='Clicks'>"
      ]
     },
     "execution_count": 11,
     "metadata": {},
     "output_type": "execute_result"
    },
    {
     "data": {
      "image/png": "[encoded data removed]",
      "text/plain": [
       "<Figure size 432x288 with 1 Axes>"
      ]
     },
     "metadata": {
      "needs_background": "light"
     },
     "output_type": "display_data"
    }
   ],
   "source": [
    "sns.barplot(x=\"age\",y=\"Clicks\", data = df, hue= \"gender\")"
   ]
  },
  {
   "cell_type": "markdown",
   "id": "c67d49c3",
   "metadata": {
    "papermill": {
     "duration": 0.02589,
     "end_time": "2021-09-02T05:12:51.778026",
     "exception": false,
     "start_time": "2021-09-02T05:12:51.752136",
     "status": "completed"
    },
    "slideshow": {
     "slide_type": "subslide"
    },
    "tags": []
   },
   "source": [
    "The graph show that age group 45-49 has clicked on ad maximum number of time as compared to other age group people. \n",
    "Females of the group has clicked more time on ads in capmarison with males. "
   ]
  },
  {
   "cell_type": "code",
   "execution_count": 12,
   "id": "8e381b22",
   "metadata": {
    "execution": {
     "iopub.execute_input": "2021-09-02T05:12:51.842024Z",
     "iopub.status.busy": "2021-09-02T05:12:51.841217Z",
     "iopub.status.idle": "2021-09-02T05:12:52.503784Z",
     "shell.execute_reply": "2021-09-02T05:12:52.505232Z",
     "shell.execute_reply.started": "2021-09-02T03:22:00.447185Z"
    },
    "papermill": {
     "duration": 0.701108,
     "end_time": "2021-09-02T05:12:52.505465",
     "exception": false,
     "start_time": "2021-09-02T05:12:51.804357",
     "status": "completed"
    },
    "slideshow": {
     "slide_type": "slide"
    },
    "tags": []
   },
   "outputs": [
    {
     "data": {
      "text/plain": [
       "<AxesSubplot:xlabel='age', ylabel='Clicks'>"
      ]
     },
     "execution_count": 12,
     "metadata": {},
     "output_type": "execute_result"
    },
    {
     "data": {
      "image/png": "[encoded data removed]",
      "text/plain": [
       "<Figure size 432x288 with 1 Axes>"
      ]
     },
     "metadata": {
      "needs_background": "light"
     },
     "output_type": "display_data"
    }
   ],
   "source": [
    "sns.barplot(x=\"age\",y=\"Clicks\", data = df, hue = \"xyz_campaign_id\")"
   ]
  },
  {
   "cell_type": "markdown",
   "id": "3c6f8378",
   "metadata": {
    "papermill": {
     "duration": 0.026221,
     "end_time": "2021-09-02T05:12:52.558578",
     "exception": false,
     "start_time": "2021-09-02T05:12:52.532357",
     "status": "completed"
    },
    "slideshow": {
     "slide_type": "subslide"
    },
    "tags": []
   },
   "source": [
    "This graph tell that in all the age group ads which campaign id 1178 was clicked most of the time as compared to other. "
   ]
  },
  {
   "cell_type": "code",
   "execution_count": 13,
   "id": "c123ad5c",
   "metadata": {
    "execution": {
     "iopub.execute_input": "2021-09-02T05:12:52.620409Z",
     "iopub.status.busy": "2021-09-02T05:12:52.618660Z",
     "iopub.status.idle": "2021-09-02T05:12:53.450081Z",
     "shell.execute_reply": "2021-09-02T05:12:53.449502Z",
     "shell.execute_reply.started": "2021-09-02T03:22:01.255479Z"
    },
    "papermill": {
     "duration": 0.865262,
     "end_time": "2021-09-02T05:12:53.450241",
     "exception": false,
     "start_time": "2021-09-02T05:12:52.584979",
     "status": "completed"
    },
    "slideshow": {
     "slide_type": "slide"
    },
    "tags": []
   },
   "outputs": [
    {
     "data": {
      "text/plain": [
       "<AxesSubplot:xlabel='xyz_campaign_id', ylabel='Approved_Conversion'>"
      ]
     },
     "execution_count": 13,
     "metadata": {},
     "output_type": "execute_result"
    },
    {
     "data": {
      "image/png": "[encoded data removed]",
      "text/plain": [
       "<Figure size 432x288 with 1 Axes>"
      ]
     },
     "metadata": {
      "needs_background": "light"
     },
     "output_type": "display_data"
    }
   ],
   "source": [
    "sns.barplot(x=\"xyz_campaign_id\", y = \"Approved_Conversion\", hue= \"age\", data = df)"
   ]
  },
  {
   "cell_type": "markdown",
   "id": "a65983ea",
   "metadata": {
    "papermill": {
     "duration": 0.029974,
     "end_time": "2021-09-02T05:12:53.508295",
     "exception": false,
     "start_time": "2021-09-02T05:12:53.478321",
     "status": "completed"
    },
    "slideshow": {
     "slide_type": "subslide"
    },
    "tags": []
   },
   "source": [
    "As we have seen earlier that in campaign id 1178 maximum click was being done with people of age group 45-49. But in the above graph we can see that maximum approved conversion are being made by people of age group 30-34, which has made less number of click as comapred to all the other age group. \n",
    "\n",
    "So, ads with campaign id 1178 can target people of age group 30-34, whereas 936 can target mostly on age group 30-34 as well. Campaign id 916 can target people of age group 40-44 as they purchase more number of time. "
   ]
  },
  {
   "cell_type": "code",
   "execution_count": 14,
   "id": "adc88e40",
   "metadata": {
    "execution": {
     "iopub.execute_input": "2021-09-02T05:12:53.572337Z",
     "iopub.status.busy": "2021-09-02T05:12:53.571162Z",
     "iopub.status.idle": "2021-09-02T05:12:54.059851Z",
     "shell.execute_reply": "2021-09-02T05:12:54.059119Z",
     "shell.execute_reply.started": "2021-09-02T03:22:02.050704Z"
    },
    "papermill": {
     "duration": 0.523793,
     "end_time": "2021-09-02T05:12:54.060040",
     "exception": false,
     "start_time": "2021-09-02T05:12:53.536247",
     "status": "completed"
    },
    "slideshow": {
     "slide_type": "slide"
    },
    "tags": []
   },
   "outputs": [
    {
     "data": {
      "text/plain": [
       "<AxesSubplot:xlabel='age', ylabel='Spent'>"
      ]
     },
     "execution_count": 14,
     "metadata": {},
     "output_type": "execute_result"
    },
    {
     "data": {
      "image/png": "[encoded data removed]",
      "text/plain": [
       "<Figure size 432x288 with 1 Axes>"
      ]
     },
     "metadata": {
      "needs_background": "light"
     },
     "output_type": "display_data"
    }
   ],
   "source": [
    "sns.barplot(x=\"age\", y=\"Spent\", hue= \"gender\",data = df)        "
   ]
  },
  {
   "cell_type": "markdown",
   "id": "9ac1df9f",
   "metadata": {
    "papermill": {
     "duration": 0.029008,
     "end_time": "2021-09-02T05:12:54.118473",
     "exception": false,
     "start_time": "2021-09-02T05:12:54.089465",
     "status": "completed"
    },
    "slideshow": {
     "slide_type": "subslide"
    },
    "tags": []
   },
   "source": [
    "Company have spent more on female as compared to male of all the age group."
   ]
  },
  {
   "cell_type": "code",
   "execution_count": 15,
   "id": "245051f3",
   "metadata": {
    "execution": {
     "iopub.execute_input": "2021-09-02T05:12:54.183308Z",
     "iopub.status.busy": "2021-09-02T05:12:54.182414Z",
     "iopub.status.idle": "2021-09-02T05:12:54.615985Z",
     "shell.execute_reply": "2021-09-02T05:12:54.615231Z",
     "shell.execute_reply.started": "2021-09-02T03:22:02.624851Z"
    },
    "papermill": {
     "duration": 0.468946,
     "end_time": "2021-09-02T05:12:54.616165",
     "exception": false,
     "start_time": "2021-09-02T05:12:54.147219",
     "status": "completed"
    },
    "slideshow": {
     "slide_type": "slide"
    },
    "tags": []
   },
   "outputs": [
    {
     "data": {
      "text/plain": [
       "<AxesSubplot:xlabel='xyz_campaign_id', ylabel='Approved_Conversion'>"
      ]
     },
     "execution_count": 15,
     "metadata": {},
     "output_type": "execute_result"
    },
    {
     "data": {
      "image/png": "[encoded data removed]",
      "text/plain": [
       "<Figure size 432x288 with 1 Axes>"
      ]
     },
     "metadata": {
      "needs_background": "light"
     },
     "output_type": "display_data"
    }
   ],
   "source": [
    "sns.barplot(x=\"xyz_campaign_id\", y = \"Approved_Conversion\", hue= \"gender\", data = df)"
   ]
  },
  {
   "cell_type": "markdown",
   "id": "9925db0b",
   "metadata": {
    "papermill": {
     "duration": 0.030422,
     "end_time": "2021-09-02T05:12:54.677189",
     "exception": false,
     "start_time": "2021-09-02T05:12:54.646767",
     "status": "completed"
    },
    "slideshow": {
     "slide_type": "subslide"
    },
    "tags": []
   },
   "source": [
    "This graph tell us that approved conversion has been made by both male and female equally. But comapnies have spent more on female. "
   ]
  }
 ],
 "metadata": {
  "kernelspec": {
   "display_name": "Python 3",
   "language": "python",
   "name": "python3"
  },
  "language_info": {
   "codemirror_mode": {
    "name": "ipython",
    "version": 3
   },
   "file_extension": ".py",
   "mimetype": "text/x-python",
   "name": "python",
   "nbconvert_exporter": "python",
   "pygments_lexer": "ipython3",
   "version": "3.7.10"
  },
  "papermill": {
   "default_parameters": {},
   "duration": 15.575245,
   "end_time": "2021-09-02T05:12:55.520233",
   "environment_variables": {},
   "exception": null,
   "input_path": "__notebook__.ipynb",
   "output_path": "__notebook__.ipynb",
   "parameters": {},
   "start_time": "2021-09-02T05:12:39.944988",
   "version": "2.3.3"
  }
 },
 "nbformat": 4,
 "nbformat_minor": 5
}
